{
 "cells": [
  {
   "cell_type": "code",
   "execution_count": null,
   "outputs": [],
   "source": [],
   "metadata": {
    "collapsed": false,
    "pycharm": {
     "name": "#%%\n"
    }
   }
  },
  {
   "cell_type": "code",
   "execution_count": 1,
   "outputs": [],
   "source": [
    "import pickle as pkl"
   ],
   "metadata": {
    "collapsed": false,
    "pycharm": {
     "name": "#%%\n"
    }
   }
  },
  {
   "cell_type": "code",
   "execution_count": null,
   "outputs": [],
   "source": [],
   "metadata": {
    "collapsed": false,
    "pycharm": {
     "name": "#%%\n"
    }
   }
  },
  {
   "cell_type": "code",
   "execution_count": 2,
   "outputs": [],
   "source": [
    "with open('friends_en_zh/1_alignment_ultimate_temp.pkl', 'rb') as f:\n",
    "    friends_zh = pkl.load(f)\n",
    "with open('friends_en_fa/1_alignment_ultimate_temp.pkl', 'rb') as f:\n",
    "    friends_fa = pkl.load(f)\n",
    "with open('tbbt_en_zh/1_alignment_ultimate_temp.pkl', 'rb') as f:\n",
    "    tbbt_zh = pkl.load(f)\n",
    "with open('tbbt_en_fa/1_alignment_ultimate_temp.pkl', 'rb') as f:\n",
    "    tbbt_fa = pkl.load(f)"
   ],
   "metadata": {
    "collapsed": false,
    "pycharm": {
     "name": "#%%\n"
    }
   }
  },
  {
   "cell_type": "code",
   "execution_count": null,
   "outputs": [],
   "source": [],
   "metadata": {
    "collapsed": false,
    "pycharm": {
     "name": "#%%\n"
    }
   }
  },
  {
   "cell_type": "code",
   "execution_count": 26,
   "outputs": [],
   "source": [
    "with open(\"../../../source_data/transcripts/tbbt/tbbt_transcripts.pkl\", 'rb') as f:\n",
    "    tbbt_transcripts = pkl.load(f)"
   ],
   "metadata": {
    "collapsed": false,
    "pycharm": {
     "name": "#%%\n"
    }
   }
  },
  {
   "cell_type": "code",
   "execution_count": 27,
   "outputs": [],
   "source": [
    "with open(\"../../../source_data/transcripts/friends/friends_transcripts.pkl\", 'rb') as f:\n",
    "    friend_transcripts = pkl.load(f)"
   ],
   "metadata": {
    "collapsed": false,
    "pycharm": {
     "name": "#%%\n"
    }
   }
  },
  {
   "cell_type": "code",
   "execution_count": null,
   "outputs": [],
   "source": [],
   "metadata": {
    "collapsed": false,
    "pycharm": {
     "name": "#%%\n"
    }
   }
  },
  {
   "cell_type": "code",
   "execution_count": 36,
   "outputs": [
    {
     "name": "stdout",
     "output_type": "stream",
     "text": [
      "21582\n"
     ]
    }
   ],
   "source": [
    "# For TBBT\n",
    "count = 0\n",
    "for item in set(tbbt_fa.keys())&set(tbbt_zh.keys()):\n",
    "    if len(tbbt_fa[item])<15 or len(tbbt_zh[item])<15:\n",
    "        continue\n",
    "    # print(item, len(tbbt_fa[item]), len(tbbt_zh[item]))\n",
    "    # count += 1 # For episode number\n",
    "    # count += len(set(tbbt_fa[item].keys())&set(tbbt_zh[item].keys())) # For Utterance 3-way aligned\n",
    "    count += len(tbbt_transcripts[item]) # For all utterances\n",
    "    # count += len(set(tbbt_fa[item].keys())) # For Utterance fa aligned\n",
    "    # count += len(set(tbbt_zh[item].keys())) # For Utterance zh aligned\n",
    "\n",
    "print(count)"
   ],
   "metadata": {
    "collapsed": false,
    "pycharm": {
     "name": "#%%\n"
    }
   }
  },
  {
   "cell_type": "code",
   "execution_count": 50,
   "outputs": [
    {
     "name": "stdout",
     "output_type": "stream",
     "text": [
      "1023\n"
     ]
    }
   ],
   "source": [
    "# Count TBBT Scenes\n",
    "count = 0\n",
    "for item in set(tbbt_fa.keys())&set(tbbt_zh.keys()):\n",
    "    if len(tbbt_fa[item])<15 or len(tbbt_zh[item])<15:\n",
    "        continue\n",
    "    scenes = tbbt_transcripts[item]\n",
    "    for item in scenes:\n",
    "        if item[-1]==\"Scene\":\n",
    "            count += 1\n",
    "    count -= 1\n",
    "print(count)"
   ],
   "metadata": {
    "collapsed": false,
    "pycharm": {
     "name": "#%%\n"
    }
   }
  },
  {
   "cell_type": "code",
   "execution_count": 51,
   "outputs": [
    {
     "name": "stdout",
     "output_type": "stream",
     "text": [
      "242\n"
     ]
    }
   ],
   "source": [
    "# Count Friends Scenes\n",
    "count = 0\n",
    "for item in set(friends_fa.keys())&set(friends_zh.keys()):\n",
    "    if len(friends_fa[item])<15 or len(friends_zh[item])<15:\n",
    "        continue\n",
    "    scenes = friend_transcripts[item]\n",
    "    for item in scenes:\n",
    "        if item[-1]==\"Scene\":\n",
    "            count += 1\n",
    "    count -= 1\n",
    "print(count)"
   ],
   "metadata": {
    "collapsed": false,
    "pycharm": {
     "name": "#%%\n"
    }
   }
  },
  {
   "cell_type": "code",
   "execution_count": null,
   "outputs": [],
   "source": [],
   "metadata": {
    "collapsed": false,
    "pycharm": {
     "name": "#%%\n"
    }
   }
  },
  {
   "cell_type": "code",
   "execution_count": 43,
   "outputs": [
    {
     "name": "stdout",
     "output_type": "stream",
     "text": [
      "{'Gablehouser', 'Christie and Howard’s Mother together', 'Emily', 'Dr Gablehouser', 'Girl in Hippie Costume', 'Leslie ', 'Pizza guy', 'Goldfarb', 'Child', 'Second child', 'Barry’s Siri', 'Missy', 'Mike Rostenkowski', 'Ira', 'Witch', 'Guy at door', 'Server', 'Spock', 'Arthur', 'Class instructor', 'Wil Wheaton', 'George Takei', 'Janine', 'Howard and Raj ', 'Sheldon', 'All', 'Missy ', 'Leslie Winkle', 'Zombie', 'Joy ', 'Howard ', 'Mrs Koothrappali', 'Mike M', 'Mike R', 'Director', 'Female Voice', 'Gablehauser ', 'Trent', 'Security Guard', 'Dave', 'Leslie Winkle ', 'Man in seat behind', 'Bermadette ', 'Nurse', 'Stuart ', 'Roeger', 'Zack', 'Mrs Koothrapalli', 'Fat Raj', 'Policeman', 'Waiter', 'Taxi Driver', 'Dimitri', 'Priya ', 'Both', 'Adam', 'Guy', 'Bernadette', 'Amy and Bernadette together', 'Voice of Spock', 'Tech Support Voice', 'Headmaster', 'Mrs Davis', 'Gablehouser ', 'Christie ', 'Everybody', 'Man in Penny’s Apartment', 'Woman in lab coat', 'Wil', 'Official', 'Doug', 'Theatre Staff', 'Rajj', '2.  Amy', 'Mrs Wolowitz ', 'Various', 'Dr Hofstadter', 'Leonard', 'Angela', 'Sheldon ', 'Mrs Cooper ', 'Dave ', 'Priya', 'Man in Suit', 'Female string quartettist', 'Good looking man coming up stairs', '1. Amy ', 'Christie', 'Dennis', 'Girl', 'Girl dressed as a Witch', 'Ira Flatow', 'Male string quartettist', 'Barry Kripke', 'Siri', 'Lakshmi', 'Leonard and Howard together', 'Dr Schneider', 'Girl in Butterfly Costume ', 'Baggage Clerk', 'Amy ', 'Ramona ', 'Dan', 'Elon', 'Raj', 'Howard', 'Howard’s Mother ', 'Third Floor Janitor', 'Howard’s Mother', 'Leslie', 'Ms Jenson', 'Hernandez', 'Answerphone', 'Photographer', 'Shelldon ', 'Lucy', 'Caller', 'Mr Rostenkowski', 'Girl ', 'Elderly Korean Gentleman', 'Kevn', 'Leonard and Howard', 'Penny', 'Bernadette ', 'Bermadette', 'Phone', 'Dr Koothrapalli', 'Audiitoner', 'Man’s Voice ', 'Mike ', 'Cole ', 'Lady Vet', 'Todd', 'Kripke', 'Dead Mrs Wolowitz', 'Penny’s Dad', 'All together', 'Kurt', 'Fat Leonard and Raj', 'Josh', 'Together', 'Cole', 'Strange man', 'Charlie Sheen ', 'Raj ', 'Penny ', 'Dr Koothrappali', 'Summer', 'Kurt ', 'Man', 'Mrs Cooper', 'Toby', 'Mike', 'Kevin', 'Kathy', 'Mrs Gunderson', 'Alex', 'First Girl', 'Woman', 'Voice', 'Clerk', 'Bespectacled Man', '4. Amy', 'Enormous man', 'Voice from Outside', 'Random voice', 'All ', 'Waitress', 'Voice Inside', 'Scene', 'Shedon', 'Huge man ', 'Barry', 'Woman at table', 'Joy', 'Mrs Wolowitz', 'Gablehauser', 'Santa', 'Fat Leonard', 'Theatre staff', 'Vet', 'Howie Mandel', 'Mike Massimino ', 'Katee Sackhoff', 'Receptionist', 'Steph', 'Howard and Bernadette ', 'Raj and Penny together', 'Lesley ', 'Second Girl', 'Assistant', 'Stuart', 'Nerdy Guy', 'Doctor', 'Caption', 'Dr Gallo', 'Leonard, Howard and Raj ', 'Elizabeth', 'Mr. Rostenkowski', 'Soup Kitchen Manager', 'Lesley', 'Mrs', 'Nathan Fillion', 'Leonard ', 'Amy', 'Ramona'}\n",
      "206\n"
     ]
    }
   ],
   "source": [
    "# Count TBBT Speaker\n",
    "speakers = set()\n",
    "for item in set(tbbt_fa.keys())&set(tbbt_zh.keys()):\n",
    "    if len(tbbt_fa[item])<15 or len(tbbt_zh[item])<15:\n",
    "        continue\n",
    "    for epi_id in set(tbbt_zh[item])&set(tbbt_fa[item]):\n",
    "        speakers.add(tbbt_transcripts[item][epi_id][1])\n",
    "\n",
    "print(speakers)\n",
    "print(len(speakers))"
   ],
   "metadata": {
    "collapsed": false,
    "pycharm": {
     "name": "#%%\n"
    }
   }
  },
  {
   "cell_type": "code",
   "execution_count": 44,
   "outputs": [
    {
     "name": "stdout",
     "output_type": "stream",
     "text": [
      "{'Joanne', 'Mrs. Tedlock', 'Phoebe Buffay Rachel Green Ross Geller', 'Soothing Male Voice', 'Franny', '#ALL#', 'Lowell', 'Chandler Bing Joey Tribbiani', 'Chandler Bing Rachel Green', 'Roger', 'Jamie', 'Bobby Rush', 'Carol Willick Susan Bunch', 'Dr. Rosen', 'Director', 'Mr. Douglas', 'Chandler Bing', 'Marsha', 'Lizzy', 'Paolo', 'Rachel Green', 'Luisa Gianetti', 'The Guys', 'Both', \"Carl (Rachel's date)\", 'Chandler Bing Joey Tribbiani Ross Geller', 'Guy', 'Mr. Heckles', 'Helen', 'Susan Bunch', 'Terry', 'Lorraine', 'Fireman No. 1', 'Monica Geller Phoebe Buffay', 'Joey Tribbiani Ross Geller', 'Celia', 'Aurora', 'Chandler Bing Joey Tribbiani Phoebe Buffay Ross Geller', 'Girl', 'Aunt Lillian', 'Andrea', 'Jill Goodacre', 'Monica Geller Rachel Green', 'Monica Geller', 'Ursula', 'Leslie', 'Alan', 'David', 'Intercom', 'Phoebe Buffay Rachel Green Monica Geller', 'Phoebe Buffay', 'Fireman No. 2', 'Frank Buffay Jr.', 'Shelley', 'Fireman No. 3', 'Sandy', 'Nina Bookbinder', 'Nurse Sizemore', 'Joey Tribbiani', 'Ross Geller', 'The Whole Party', 'Robbie', 'Woman', 'Chandler Bing Ross Geller', 'Kiki', 'Carol Willick', 'Ronni Rapalono', 'Teacher', 'Paul the Wine Guy', 'Steve (drug addict)', 'Waitress', 'Scene', 'Barry Farber', 'Kristin', 'Joey Tribbiani Monica Geller Phoebe Buffay', 'Max', 'Receptionist', 'Judy Geller', \"Phoebe's Assistant\", 'Dr. Mitchell', 'Gerston', 'Dr. Oberman', 'Bernice', 'Dick Clark', 'Ethan', 'Joey Tribbiani Sr.', 'Janice Litman Goralnik', 'Santos', \"Phoebe's Friends\", 'Gloria Tribbiani', 'Mindy Hunter', 'Paula'}\n",
      "92\n"
     ]
    }
   ],
   "source": [
    "# Count Friends Speaker\n",
    "speakers = set()\n",
    "for item in set(friends_fa.keys())&set(friends_zh.keys()):\n",
    "    if len(friends_fa[item])<15 or len(friends_zh[item])<15:\n",
    "        continue\n",
    "    for epi_id in set(friends_zh[item])&set(friends_fa[item]):\n",
    "        speakers.add(friend_transcripts[item][epi_id][1])\n",
    "\n",
    "print(speakers)\n",
    "print(len(speakers))"
   ],
   "metadata": {
    "collapsed": false,
    "pycharm": {
     "name": "#%%\n"
    }
   }
  },
  {
   "cell_type": "code",
   "execution_count": null,
   "outputs": [],
   "source": [],
   "metadata": {
    "collapsed": false,
    "pycharm": {
     "name": "#%%\n"
    }
   }
  },
  {
   "cell_type": "code",
   "execution_count": 31,
   "outputs": [
    {
     "name": "stdout",
     "output_type": "stream",
     "text": [
      "(1, 6) 104 179\n",
      "(1, 3) 148 199\n",
      "(1, 9) 165 198\n",
      "(1, 12) 154 196\n",
      "(1, 18) 30 197\n",
      "(1, 15) 180 188\n",
      "(1, 24) 48 155\n",
      "(1, 2) 130 176\n",
      "(1, 8) 102 199\n",
      "(1, 14) 167 160\n",
      "(1, 20) 162 195\n",
      "(1, 17) 168 176\n",
      "(1, 1) 211 256\n",
      "(1, 4) 119 215\n",
      "(1, 7) 95 170\n",
      "(1, 13) 183 195\n",
      "(1, 10) 47 177\n",
      "(1, 16) 218 199\n",
      "(1, 19) 23 186\n",
      "(1, 22) 194 202\n",
      "3818\n"
     ]
    }
   ],
   "source": [
    "# For Friends\n",
    "count = 0\n",
    "for item in set(friends_fa.keys())&set(friends_zh.keys()):\n",
    "    if len(friends_fa[item])<15 or len(friends_zh[item])<15:\n",
    "        continue\n",
    "    # print(item, len(friends_fa[item]), len(friends_zh[item]))\n",
    "    # count += 1 # For episode number\n",
    "    # count += len(set(friends_fa[item].keys())&set(friends_zh[item].keys())) # For Utterance 3-way aligned\n",
    "    # count += len(friend_transcripts[item]) # For all utterances\n",
    "    # count += len(set(friends_fa[item].keys())) # For Utterance fa aligned\n",
    "    count += len(set(friends_zh[item].keys())) # For Utterance zh aligned\n",
    "\n",
    "print(count)"
   ],
   "metadata": {
    "collapsed": false,
    "pycharm": {
     "name": "#%%\n"
    }
   }
  },
  {
   "cell_type": "code",
   "execution_count": 6,
   "outputs": [
    {
     "name": "stdout",
     "output_type": "stream",
     "text": [
      "92\n"
     ]
    }
   ],
   "source": [],
   "metadata": {
    "collapsed": false,
    "pycharm": {
     "name": "#%%\n"
    }
   }
  },
  {
   "cell_type": "code",
   "execution_count": null,
   "outputs": [],
   "source": [],
   "metadata": {
    "collapsed": false,
    "pycharm": {
     "name": "#%%\n"
    }
   }
  },
  {
   "cell_type": "code",
   "execution_count": 13,
   "outputs": [
    {
     "name": "stdout",
     "output_type": "stream",
     "text": [
      "(1, 6) 104 179\n",
      "(1, 3) 148 199\n",
      "(1, 9) 165 198\n",
      "(2, 8) 164 10\n",
      "(1, 12) 154 196\n",
      "(1, 18) 30 197\n",
      "(1, 15) 180 188\n",
      "(1, 24) 48 155\n",
      "(1, 2) 130 176\n",
      "(1, 8) 102 199\n",
      "(1, 14) 167 160\n",
      "(1, 20) 162 195\n",
      "(1, 17) 168 176\n",
      "(7, 15) 168 13\n",
      "(1, 1) 211 256\n",
      "(1, 4) 119 215\n",
      "(1, 7) 95 170\n",
      "(1, 13) 183 195\n",
      "(1, 10) 47 177\n",
      "(1, 16) 218 199\n",
      "(1, 19) 23 186\n",
      "(1, 22) 194 202\n",
      "22\n"
     ]
    }
   ],
   "source": [
    "# For Friends\n",
    "count = 0\n",
    "for item in set(friends_fa.keys())&set(friends_zh.keys()):\n",
    "    if len(friends_fa[item])<10 or len(friends_zh[item])<10:\n",
    "        continue\n",
    "    print(item, len(friends_fa[item]), len(friends_zh[item]))\n",
    "    count += 1\n",
    "print(count)"
   ],
   "metadata": {
    "collapsed": false,
    "pycharm": {
     "name": "#%%\n"
    }
   }
  },
  {
   "cell_type": "code",
   "execution_count": null,
   "outputs": [],
   "source": [],
   "metadata": {
    "collapsed": false,
    "pycharm": {
     "name": "#%%\n"
    }
   }
  },
  {
   "cell_type": "code",
   "execution_count": null,
   "outputs": [],
   "source": [],
   "metadata": {
    "collapsed": false,
    "pycharm": {
     "name": "#%%\n"
    }
   }
  },
  {
   "cell_type": "code",
   "execution_count": null,
   "outputs": [],
   "source": [],
   "metadata": {
    "collapsed": false,
    "pycharm": {
     "name": "#%%\n"
    }
   }
  },
  {
   "cell_type": "code",
   "execution_count": null,
   "outputs": [],
   "source": [],
   "metadata": {
    "collapsed": false,
    "pycharm": {
     "name": "#%%\n"
    }
   }
  }
 ],
 "metadata": {
  "kernelspec": {
   "display_name": "Python 3",
   "language": "python",
   "name": "python3"
  },
  "language_info": {
   "codemirror_mode": {
    "name": "ipython",
    "version": 2
   },
   "file_extension": ".py",
   "mimetype": "text/x-python",
   "name": "python",
   "nbconvert_exporter": "python",
   "pygments_lexer": "ipython2",
   "version": "2.7.6"
  }
 },
 "nbformat": 4,
 "nbformat_minor": 0
}