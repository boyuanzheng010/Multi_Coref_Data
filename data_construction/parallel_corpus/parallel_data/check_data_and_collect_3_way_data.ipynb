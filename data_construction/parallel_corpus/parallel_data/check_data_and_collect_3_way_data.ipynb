{
 "cells": [
  {
   "cell_type": "code",
   "execution_count": null,
   "metadata": {
    "collapsed": true,
    "pycharm": {
     "name": "#%%\n"
    }
   },
   "outputs": [],
   "source": []
  },
  {
   "cell_type": "code",
   "execution_count": 27,
   "outputs": [],
   "source": [
    "import pickle as pkl\n",
    "import json"
   ],
   "metadata": {
    "collapsed": false,
    "pycharm": {
     "name": "#%%\n"
    }
   }
  },
  {
   "cell_type": "code",
   "execution_count": 2,
   "outputs": [],
   "source": [
    "from data_construction.parallel_corpus.utils import merge_maximum_span\n",
    "from data_construction.parallel_corpus.utils import clean_sentence_brackets\n",
    "from data_construction.parallel_corpus.utils import process_nps_punctuation"
   ],
   "metadata": {
    "collapsed": false,
    "pycharm": {
     "name": "#%%\n"
    }
   }
  },
  {
   "cell_type": "code",
   "execution_count": 2,
   "outputs": [],
   "source": [],
   "metadata": {
    "collapsed": false,
    "pycharm": {
     "name": "#%%\n"
    }
   }
  },
  {
   "cell_type": "code",
   "execution_count": 2,
   "outputs": [],
   "source": [],
   "metadata": {
    "collapsed": false,
    "pycharm": {
     "name": "#%%\n"
    }
   }
  },
  {
   "cell_type": "code",
   "execution_count": 3,
   "outputs": [],
   "source": [
    "def extract_three_way_subtitles(scenes):\n",
    "    output = []\n",
    "    for scene in scenes:\n",
    "        for utt in scene:\n",
    "            temp = {\n",
    "                \"fa_utterance\": utt['fa_subtitles'],\n",
    "                \"zh_utterance\": utt['zh_subtitles']\n",
    "            }\n",
    "            if utt['en_subtitles']!=\"\":\n",
    "                temp['en_utterance'] = utt['en_subtitles']\n",
    "            else:\n",
    "                temp['en_utterance'] = utt['utterance']\n",
    "            output.append(temp)\n",
    "    return output"
   ],
   "metadata": {
    "collapsed": false,
    "pycharm": {
     "name": "#%%\n"
    }
   }
  },
  {
   "cell_type": "code",
   "execution_count": 19,
   "outputs": [],
   "source": [
    "def extract_mentions(scenes):\n",
    "    output = []\n",
    "    for scene in scenes:\n",
    "        for utt in scene:\n",
    "            sentence_token = [item[0] for item in utt['sm_pron']]\n",
    "            sm_nps = process_nps_punctuation(sentence_token, process_nps_punctuation(sentence_token, utt['sm_noun_chunk']))\n",
    "            berkeley_nps = process_nps_punctuation(sentence_token, process_nps_punctuation(sentence_token, utt['berkeley_noun_chunk']))\n",
    "            trf_nps = process_nps_punctuation(sentence_token, process_nps_punctuation(sentence_token, utt['trf_noun_chunk']))\n",
    "            noun_phrase = merge_maximum_span(list(set(sm_nps) | set(berkeley_nps) | set(trf_nps)))\n",
    "\n",
    "            temp_pron = []\n",
    "            temp_pron.extend([(item[0], item[1], item[2]) for item in utt['sm_pron'] if item[3]=='PRON'])\n",
    "            temp_pron.extend([(item[0], item[1], item[2]) for item in utt['berkeley_pron'] if item[3]=='PRON'])\n",
    "            temp_pron.extend([(item[0], item[1], item[2]) for item in utt['trf_pron'] if item[3]=='PRON'])\n",
    "            pron = merge_maximum_span(list(set(temp_pron)))\n",
    "\n",
    "            mention = list(set(noun_phrase)|set(pron))\n",
    "            output.extend(mention)\n",
    "    return output"
   ],
   "metadata": {
    "collapsed": false,
    "pycharm": {
     "name": "#%%\n"
    }
   }
  },
  {
   "cell_type": "code",
   "execution_count": null,
   "outputs": [],
   "source": [],
   "metadata": {
    "collapsed": false,
    "pycharm": {
     "name": "#%%\n"
    }
   }
  },
  {
   "cell_type": "code",
   "execution_count": null,
   "outputs": [],
   "source": [],
   "metadata": {
    "collapsed": false,
    "pycharm": {
     "name": "#%%\n"
    }
   }
  },
  {
   "cell_type": "code",
   "execution_count": null,
   "outputs": [],
   "source": [],
   "metadata": {
    "collapsed": false,
    "pycharm": {
     "name": "#%%\n"
    }
   }
  },
  {
   "cell_type": "code",
   "execution_count": null,
   "outputs": [],
   "source": [],
   "metadata": {
    "collapsed": false,
    "pycharm": {
     "name": "#%%\n"
    }
   }
  },
  {
   "cell_type": "code",
   "execution_count": 29,
   "outputs": [
    {
     "name": "stdout",
     "output_type": "stream",
     "text": [
      "Episode Number: 88\n",
      "Scene Number: 998\n",
      "Subtitle Number: 18746\n",
      "Mention Number: 74272\n"
     ]
    }
   ],
   "source": [
    "with open('tbbt_three_way.pkl', 'rb') as f:\n",
    "    corpus = pkl.load(f)\n",
    "with open('../../parsing/parsed_corpus_tbbt.pkl', 'rb') as f:\n",
    "    parsed_corpus = pkl.load(f)\n",
    "\n",
    "print(\"Episode Number:\", len(corpus))\n",
    "count = 0\n",
    "for epi_key in corpus:\n",
    "    count += len(corpus[epi_key])\n",
    "print(\"Scene Number:\", count)\n",
    "\n",
    "all_subtitles = []\n",
    "all_mentions = []\n",
    "for epi_key in corpus:\n",
    "    all_subtitles.extend(extract_three_way_subtitles(corpus[epi_key]))\n",
    "    all_mentions.extend(extract_mentions(parsed_corpus[epi_key]))\n",
    "print(\"Subtitle Number:\", len(all_subtitles))\n",
    "print(\"Mention Number:\", len(all_mentions))\n",
    "\n",
    "with open('tbbt_3_way.json', 'w') as f:\n",
    "    json.dump(all_subtitles, f)"
   ],
   "metadata": {
    "collapsed": false,
    "pycharm": {
     "name": "#%%\n"
    }
   }
  },
  {
   "cell_type": "code",
   "execution_count": 28,
   "outputs": [
    {
     "name": "stdout",
     "output_type": "stream",
     "text": [
      "Episode Number: 20\n",
      "Scene Number: 242\n",
      "Subtitle Number: 4756\n",
      "Mention Number: 15099\n"
     ]
    }
   ],
   "source": [
    "with open('friends_three_way.pkl', 'rb') as f:\n",
    "    corpus = pkl.load(f)\n",
    "with open('../../parsing/parsed_corpus_friends.pkl', 'rb') as f:\n",
    "    parsed_corpus = pkl.load(f)\n",
    "\n",
    "print(\"Episode Number:\", len(corpus))\n",
    "count = 0\n",
    "for epi_key in corpus:\n",
    "    count += len(corpus[epi_key])\n",
    "print(\"Scene Number:\", count)\n",
    "\n",
    "all_subtitles = []\n",
    "all_mentions = []\n",
    "for epi_key in corpus:\n",
    "    all_subtitles.extend(extract_three_way_subtitles(corpus[epi_key]))\n",
    "    all_mentions.extend(extract_mentions(parsed_corpus[epi_key]))\n",
    "print(\"Subtitle Number:\", len(all_subtitles))\n",
    "print(\"Mention Number:\", len(all_mentions))\n",
    "\n",
    "with open('friends_3_way.json', 'w') as f:\n",
    "    json.dump(all_subtitles, f)"
   ],
   "metadata": {
    "collapsed": false,
    "pycharm": {
     "name": "#%%\n"
    }
   }
  },
  {
   "cell_type": "code",
   "execution_count": 46,
   "outputs": [
    {
     "name": "stdout",
     "output_type": "stream",
     "text": [
      "23502\n",
      "89371\n"
     ]
    }
   ],
   "source": [
    "print(4756+18746)\n",
    "\n",
    "print(74272+15099)"
   ],
   "metadata": {
    "collapsed": false,
    "pycharm": {
     "name": "#%%\n"
    }
   }
  },
  {
   "cell_type": "code",
   "execution_count": 30,
   "outputs": [
    {
     "name": "stdout",
     "output_type": "stream",
     "text": [
      "Episode Number: 91\n",
      "Scene Number: 1161\n",
      "Subtitle Number: 22248\n",
      "Mention Number: 76104\n"
     ]
    }
   ],
   "source": [
    "with open('friends_three_way_new.pkl', 'rb') as f:\n",
    "    corpus = pkl.load(f)\n",
    "with open('../../parsing/parsed_corpus_friends_new.pkl', 'rb') as f:\n",
    "    parsed_corpus = pkl.load(f)\n",
    "\n",
    "print(\"Episode Number:\", len(corpus))\n",
    "count = 0\n",
    "for epi_key in corpus:\n",
    "    count += len(corpus[epi_key])\n",
    "print(\"Scene Number:\", count)\n",
    "\n",
    "all_subtitles = []\n",
    "all_mentions = []\n",
    "for epi_key in corpus:\n",
    "    all_subtitles.extend(extract_three_way_subtitles(corpus[epi_key]))\n",
    "    all_mentions.extend(extract_mentions(parsed_corpus[epi_key]))\n",
    "print(\"Subtitle Number:\", len(all_subtitles))\n",
    "print(\"Mention Number:\", len(all_mentions))\n",
    "\n",
    "with open('friends_3_way_new.json', 'w') as f:\n",
    "    json.dump(all_subtitles, f)"
   ],
   "metadata": {
    "collapsed": false,
    "pycharm": {
     "name": "#%%\n"
    }
   }
  },
  {
   "cell_type": "code",
   "execution_count": null,
   "outputs": [],
   "source": [],
   "metadata": {
    "collapsed": false,
    "pycharm": {
     "name": "#%%\n"
    }
   }
  },
  {
   "cell_type": "markdown",
   "source": [
    "# Divide into Train/Dev/Test"
   ],
   "metadata": {
    "collapsed": false,
    "pycharm": {
     "name": "#%% md\n"
    }
   }
  },
  {
   "cell_type": "code",
   "execution_count": 33,
   "outputs": [],
   "source": [
    "with open('friends_three_way.pkl', 'rb') as f:\n",
    "    friends_corpus = pkl.load(f)\n",
    "with open('../../parsing/parsed_corpus_friends.pkl', 'rb') as f:\n",
    "    friends_parsed_corpus = pkl.load(f)\n",
    "\n",
    "with open('tbbt_three_way.pkl', 'rb') as f:\n",
    "    tbbt_corpus = pkl.load(f)\n",
    "with open('../../parsing/parsed_corpus_tbbt.pkl', 'rb') as f:\n",
    "    tbbt_parsed_corpus = pkl.load(f)"
   ],
   "metadata": {
    "collapsed": false,
    "pycharm": {
     "name": "#%%\n"
    }
   }
  },
  {
   "cell_type": "code",
   "execution_count": null,
   "outputs": [],
   "source": [],
   "metadata": {
    "collapsed": false,
    "pycharm": {
     "name": "#%%\n"
    }
   }
  },
  {
   "cell_type": "code",
   "execution_count": 35,
   "outputs": [
    {
     "name": "stdout",
     "output_type": "stream",
     "text": [
      "Scene Number: 126\n",
      "Subtitle Number: 2406\n",
      "Mention Number: 9598\n"
     ]
    }
   ],
   "source": [
    "# Dev\n",
    "dev_friends = [(1,1)]\n",
    "dev_tbbt = [(7, 1), (7, 2), (7, 6), (7, 10), (7, 11), (7, 15), (7, 16), (7, 17), (7, 18), (7, 19)]\n",
    "\n",
    "count = 0\n",
    "all_subtitles = []\n",
    "all_mentions = []\n",
    "\n",
    "for epi_key in dev_friends:\n",
    "    count += len(friends_corpus[epi_key])\n",
    "for epi_key in dev_tbbt:\n",
    "    count += len(tbbt_corpus[epi_key])\n",
    "print(\"Scene Number:\", count)\n",
    "\n",
    "for epi_key in dev_friends:\n",
    "    all_subtitles.extend(extract_three_way_subtitles(friends_corpus[epi_key]))\n",
    "    all_mentions.extend(extract_mentions(friends_parsed_corpus[epi_key]))\n",
    "for epi_key in dev_tbbt:\n",
    "    all_subtitles.extend(extract_three_way_subtitles(tbbt_corpus[epi_key]))\n",
    "    all_mentions.extend(extract_mentions(tbbt_parsed_corpus[epi_key]))\n",
    "\n",
    "print(\"Subtitle Number:\", len(all_subtitles))\n",
    "print(\"Mention Number:\", len(all_mentions))"
   ],
   "metadata": {
    "collapsed": false,
    "pycharm": {
     "name": "#%%\n"
    }
   }
  },
  {
   "cell_type": "code",
   "execution_count": 36,
   "outputs": [
    {
     "name": "stdout",
     "output_type": "stream",
     "text": [
      "Scene Number: 146\n",
      "Subtitle Number: 2129\n",
      "Mention Number: 8437\n"
     ]
    }
   ],
   "source": [
    "# Test\n",
    "test_friends = [(1,4)]\n",
    "test_tbbt = [(9, 1), (9, 3), (9, 4), (9, 7), (9, 9), (9, 10), (9, 11), (9, 12), (9, 16)]\n",
    "\n",
    "count = 0\n",
    "all_subtitles = []\n",
    "all_mentions = []\n",
    "\n",
    "for epi_key in test_friends:\n",
    "    count += len(friends_corpus[epi_key])\n",
    "for epi_key in test_tbbt:\n",
    "    count += len(tbbt_corpus[epi_key])\n",
    "print(\"Scene Number:\", count)\n",
    "\n",
    "for epi_key in test_friends:\n",
    "    all_subtitles.extend(extract_three_way_subtitles(friends_corpus[epi_key]))\n",
    "    all_mentions.extend(extract_mentions(friends_parsed_corpus[epi_key]))\n",
    "for epi_key in test_tbbt:\n",
    "    all_subtitles.extend(extract_three_way_subtitles(tbbt_corpus[epi_key]))\n",
    "    all_mentions.extend(extract_mentions(tbbt_parsed_corpus[epi_key]))\n",
    "\n",
    "print(\"Subtitle Number:\", len(all_subtitles))\n",
    "print(\"Mention Number:\", len(all_mentions))"
   ],
   "metadata": {
    "collapsed": false,
    "pycharm": {
     "name": "#%%\n"
    }
   }
  },
  {
   "cell_type": "code",
   "execution_count": 42,
   "outputs": [
    {
     "name": "stdout",
     "output_type": "stream",
     "text": [
      "{(1, 6), (1, 3), (1, 9), (1, 12), (1, 18), (1, 15), (1, 24), (1, 2), (1, 8), (1, 14), (1, 20), (1, 17), (1, 1), (1, 4), (1, 7), (1, 13), (1, 10), (1, 16), (1, 19), (1, 22)}\n",
      "{(1, 2), (1, 8), (1, 14), (1, 20), (1, 17), (1, 6), (1, 3), (1, 9), (1, 12), (1, 18), (1, 15), (1, 24), (1, 7), (1, 13), (1, 10), (1, 16), (1, 19), (1, 22)}\n",
      "\n",
      "{(7, 17), (8, 9), (8, 18), (6, 2), (7, 1), (1, 15), (7, 10), (6, 20), (7, 19), (8, 2), (9, 1), (5, 12), (8, 11), (9, 10), (2, 4), (4, 23), (6, 4), (9, 3), (5, 14), (9, 12), (5, 23), (1, 10), (6, 6), (7, 23), (1, 3), (7, 16), (9, 7), (3, 21), (9, 16), (1, 5), (8, 20), (1, 14), (5, 2), (4, 4), (9, 9), (3, 23), (4, 22), (1, 7), (2, 6), (8, 22), (7, 2), (1, 16), (7, 11), (6, 15), (4, 6), (4, 24), (8, 6), (8, 15), (1, 9), (8, 24), (6, 8), (6, 17), (5, 6), (4, 8), (8, 17), (1, 11), (6, 19), (4, 1), (7, 18), (4, 19), (8, 1), (1, 4), (5, 20), (8, 19), (1, 13), (6, 3), (6, 21), (4, 3), (7, 20), (4, 21), (8, 3), (8, 12), (9, 11), (8, 21), (6, 5), (6, 14), (4, 5), (7, 22), (9, 4), (5, 15), (8, 23), (6, 7), (7, 6), (6, 16), (7, 15), (1, 1), (8, 16), (6, 9)}\n",
      "{(6, 15), (4, 6), (8, 9), (4, 24), (8, 6), (8, 18), (8, 15), (1, 9), (8, 24), (6, 2), (1, 15), (6, 8), (6, 20), (6, 17), (5, 6), (4, 8), (8, 2), (5, 12), (8, 11), (2, 4), (4, 23), (8, 17), (1, 11), (6, 4), (6, 19), (4, 1), (4, 19), (8, 1), (5, 14), (5, 23), (1, 4), (5, 20), (8, 19), (1, 13), (1, 10), (6, 6), (6, 3), (7, 23), (6, 21), (4, 3), (7, 20), (4, 21), (8, 3), (8, 12), (1, 3), (8, 21), (6, 5), (6, 14), (4, 5), (7, 22), (3, 21), (5, 15), (1, 5), (8, 23), (8, 20), (1, 14), (6, 7), (6, 16), (5, 2), (4, 4), (3, 23), (4, 22), (1, 1), (8, 16), (1, 7), (2, 6), (8, 22), (1, 16), (6, 9)}\n"
     ]
    }
   ],
   "source": [
    "print(set(friends_corpus.keys()))\n",
    "print(friends_corpus.keys()-set(test_friends)-set(dev_friends))\n",
    "\n",
    "print()\n",
    "print(set(tbbt_corpus.keys()))\n",
    "print(tbbt_corpus.keys()-set(test_tbbt)-set(dev_tbbt))"
   ],
   "metadata": {
    "collapsed": false,
    "pycharm": {
     "name": "#%%\n"
    }
   }
  },
  {
   "cell_type": "code",
   "execution_count": 43,
   "outputs": [
    {
     "name": "stdout",
     "output_type": "stream",
     "text": [
      "Scene Number: 968\n",
      "Subtitle Number: 18967\n",
      "Mention Number: 71336\n"
     ]
    }
   ],
   "source": [
    "# Train\n",
    "test_friends = [(1,4)]\n",
    "test_tbbt = [(9, 1), (9, 3), (9, 4), (9, 7), (9, 9), (9, 10), (9, 11), (9, 12), (9, 16)]\n",
    "\n",
    "count = 0\n",
    "all_subtitles = []\n",
    "all_mentions = []\n",
    "\n",
    "for epi_key in friends_corpus.keys()-set(test_friends)-set(dev_friends):\n",
    "    count += len(friends_corpus[epi_key])\n",
    "for epi_key in tbbt_corpus.keys()-set(test_tbbt)-set(dev_tbbt):\n",
    "    count += len(tbbt_corpus[epi_key])\n",
    "print(\"Scene Number:\", count)\n",
    "\n",
    "for epi_key in friends_corpus.keys()-set(test_friends)-set(dev_friends):\n",
    "    all_subtitles.extend(extract_three_way_subtitles(friends_corpus[epi_key]))\n",
    "    all_mentions.extend(extract_mentions(friends_parsed_corpus[epi_key]))\n",
    "for epi_key in tbbt_corpus.keys()-set(test_tbbt)-set(dev_tbbt):\n",
    "    all_subtitles.extend(extract_three_way_subtitles(tbbt_corpus[epi_key]))\n",
    "    all_mentions.extend(extract_mentions(tbbt_parsed_corpus[epi_key]))\n",
    "\n",
    "print(\"Subtitle Number:\", len(all_subtitles))\n",
    "print(\"Mention Number:\", len(all_mentions))"
   ],
   "metadata": {
    "collapsed": false,
    "pycharm": {
     "name": "#%%\n"
    }
   }
  },
  {
   "cell_type": "code",
   "execution_count": null,
   "outputs": [],
   "source": [],
   "metadata": {
    "collapsed": false,
    "pycharm": {
     "name": "#%%\n"
    }
   }
  },
  {
   "cell_type": "markdown",
   "source": [
    "## Estimate Cost"
   ],
   "metadata": {
    "collapsed": false,
    "pycharm": {
     "name": "#%% md\n"
    }
   }
  },
  {
   "cell_type": "code",
   "execution_count": null,
   "outputs": [],
   "source": [],
   "metadata": {
    "collapsed": false,
    "pycharm": {
     "name": "#%%\n"
    }
   }
  },
  {
   "cell_type": "code",
   "execution_count": null,
   "outputs": [],
   "source": [],
   "metadata": {
    "collapsed": false,
    "pycharm": {
     "name": "#%%\n"
    }
   }
  },
  {
   "cell_type": "code",
   "execution_count": null,
   "outputs": [],
   "source": [],
   "metadata": {
    "collapsed": false,
    "pycharm": {
     "name": "#%%\n"
    }
   }
  },
  {
   "cell_type": "code",
   "execution_count": null,
   "outputs": [],
   "source": [],
   "metadata": {
    "collapsed": false,
    "pycharm": {
     "name": "#%%\n"
    }
   }
  },
  {
   "cell_type": "code",
   "execution_count": null,
   "outputs": [],
   "source": [],
   "metadata": {
    "collapsed": false,
    "pycharm": {
     "name": "#%%\n"
    }
   }
  },
  {
   "cell_type": "code",
   "execution_count": null,
   "outputs": [],
   "source": [],
   "metadata": {
    "collapsed": false,
    "pycharm": {
     "name": "#%%\n"
    }
   }
  },
  {
   "cell_type": "code",
   "execution_count": null,
   "outputs": [],
   "source": [],
   "metadata": {
    "collapsed": false,
    "pycharm": {
     "name": "#%%\n"
    }
   }
  },
  {
   "cell_type": "code",
   "execution_count": null,
   "outputs": [],
   "source": [],
   "metadata": {
    "collapsed": false,
    "pycharm": {
     "name": "#%%\n"
    }
   }
  },
  {
   "cell_type": "code",
   "execution_count": null,
   "outputs": [],
   "source": [],
   "metadata": {
    "collapsed": false,
    "pycharm": {
     "name": "#%%\n"
    }
   }
  }
 ],
 "metadata": {
  "kernelspec": {
   "display_name": "Python 3",
   "language": "python",
   "name": "python3"
  },
  "language_info": {
   "codemirror_mode": {
    "name": "ipython",
    "version": 2
   },
   "file_extension": ".py",
   "mimetype": "text/x-python",
   "name": "python",
   "nbconvert_exporter": "python",
   "pygments_lexer": "ipython2",
   "version": "2.7.6"
  }
 },
 "nbformat": 4,
 "nbformat_minor": 0
}