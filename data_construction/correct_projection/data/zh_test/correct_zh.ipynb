{
 "cells": [
  {
   "cell_type": "code",
   "execution_count": 13,
   "metadata": {
    "collapsed": true,
    "pycharm": {
     "name": "#%%\n"
    }
   },
   "outputs": [
    {
     "data": {
      "text/plain": "1131072"
     },
     "execution_count": 13,
     "metadata": {},
     "output_type": "execute_result"
    }
   ],
   "source": [
    "import csv\n",
    "import json\n",
    "from copy import deepcopy\n",
    "csv.field_size_limit(1131072)"
   ]
  },
  {
   "cell_type": "code",
   "execution_count": 14,
   "outputs": [],
   "source": [
    "# Collect All Correction Annotations\n",
    "coe_annotations = []\n",
    "for split_name in [\"batch_0\", \"batch_1\", \"batch_2\",\"batch_3\",\"batch_4\",\"batch_5\",\"batch_6\",\"batch_7\"]:\n",
    "    with open('data/zh/annotations/'+split_name+'.csv', 'r', encoding='utf-8') as f:\n",
    "        reader = csv.DictReader(f)\n",
    "        for item in reader:\n",
    "            coe_annotations.append(item)"
   ],
   "metadata": {
    "collapsed": false,
    "pycharm": {
     "name": "#%%\n"
    }
   }
  },
  {
   "cell_type": "code",
   "execution_count": 15,
   "outputs": [],
   "source": [
    "correction_inputs_ids = []\n",
    "with open('data/zh/source/to_tasa_all_zh_trial.csv', 'r', encoding='utf-8') as f:\n",
    "    reader = csv.DictReader(f)\n",
    "    for item in reader:\n",
    "        correction_inputs_ids.append(item)"
   ],
   "metadata": {
    "collapsed": false,
    "pycharm": {
     "name": "#%%\n"
    }
   }
  },
  {
   "cell_type": "code",
   "execution_count": 16,
   "outputs": [],
   "source": [
    "# Collect Source Data in English\n",
    "all_en_data = {}\n",
    "with open('data/zh/source/all_coref_data_en_finalized.json', 'r') as f:\n",
    "    temp = json.load(f)\n",
    "    for item in temp:\n",
    "        all_en_data[item['scene_id']] = item\n",
    "\n",
    "en_mention_dict = {}\n",
    "for item in all_en_data:\n",
    "    annotations = all_en_data[item]['annotations']\n",
    "    for anno in annotations:\n",
    "        query = anno['query']\n",
    "        antecedents = anno['antecedents']\n",
    "        en_mention_dict[query['mention_id']] = [query['sentenceIndex'], query['startToken'],query['endToken']]\n",
    "        if antecedents!=[]:\n",
    "            if isinstance(antecedents[0], dict):\n",
    "                for ante in antecedents:\n",
    "                    en_mention_dict[ante['mention_id']] = [ante['sentenceIndex'], ante['startToken'],ante['endToken']]"
   ],
   "metadata": {
    "collapsed": false,
    "pycharm": {
     "name": "#%%\n"
    }
   }
  },
  {
   "cell_type": "code",
   "execution_count": 17,
   "outputs": [],
   "source": [
    "# Collect Source Data in Chinese\n",
    "all_zh_data = {}\n",
    "with open('data/zh/source/all_coref_data_en_zh_finalized.json', 'r') as f:\n",
    "    temp = json.load(f)\n",
    "    for item in temp:\n",
    "        all_zh_data[item['scene_id']] = item\n",
    "\n",
    "zh_mention_dict = {}\n",
    "for item in all_zh_data:\n",
    "    annotations = all_zh_data[item]['annotations']\n",
    "    for anno in annotations:\n",
    "        query = anno['query']\n",
    "        antecedents = anno['antecedents']\n",
    "        zh_mention_dict[query['mention_id']] = [query['sentenceIndex'], query['startToken'],query['endToken']]\n",
    "        if antecedents!=[]:\n",
    "            if isinstance(antecedents[0], dict):\n",
    "                for ante in antecedents:\n",
    "                    zh_mention_dict[ante['mention_id']] = [ante['sentenceIndex'], ante['startToken'],ante['endToken']]"
   ],
   "metadata": {
    "collapsed": false,
    "pycharm": {
     "name": "#%%\n"
    }
   }
  },
  {
   "cell_type": "code",
   "execution_count": 18,
   "outputs": [],
   "source": [
    "# Collect Source Data in Chinese\n",
    "all_zh_data_char = {}\n",
    "with open('data/zh/source/all_coref_data_en_zh_finalized_char.json', 'r') as f:\n",
    "    temp = json.load(f)\n",
    "    for item in temp:\n",
    "        all_zh_data_char[item['scene_id']] = item"
   ],
   "metadata": {
    "collapsed": false,
    "pycharm": {
     "name": "#%%\n"
    }
   }
  },
  {
   "cell_type": "code",
   "execution_count": 6,
   "outputs": [],
   "source": [],
   "metadata": {
    "collapsed": false,
    "pycharm": {
     "name": "#%%\n"
    }
   }
  },
  {
   "cell_type": "code",
   "execution_count": 6,
   "outputs": [],
   "source": [],
   "metadata": {
    "collapsed": false,
    "pycharm": {
     "name": "#%%\n"
    }
   }
  },
  {
   "cell_type": "code",
   "execution_count": 19,
   "outputs": [],
   "source": [
    "def remove_drop_words(alignment):\n",
    "    result = set()\n",
    "    for start, end in alignment:\n",
    "        result.add((start, end//2))\n",
    "    return result\n",
    "\n",
    "def extract_pair(result):\n",
    "    starts = set()\n",
    "    ends = set()\n",
    "    for start, end in result:\n",
    "        starts.add(start)\n",
    "        ends.add(end)\n",
    "    start_idx = min(list(starts))\n",
    "    end_idx = max(list(ends))\n",
    "    return [min(list(ends)), max(list(ends))+1]\n",
    "\n",
    "def extract_alignment_pair_original(alignment):\n",
    "    result = set()\n",
    "    for s in range(len(alignment)):\n",
    "        for t in range(len(alignment[0])):\n",
    "            if alignment[s][t]:\n",
    "                result.add((s, t))\n",
    "    return sorted(list(result))\n",
    "\n",
    "def extract_alignment_pair_space(alignment):\n",
    "    result = set()\n",
    "    for s in range(len(alignment)):\n",
    "        for t in range(len(alignment[0])):\n",
    "            if alignment[s][t]:\n",
    "                result.add((s, t))\n",
    "    return sorted(list(remove_drop_words(result)))"
   ],
   "metadata": {
    "collapsed": false,
    "pycharm": {
     "name": "#%%\n"
    }
   }
  },
  {
   "cell_type": "code",
   "execution_count": 21,
   "outputs": [],
   "source": [
    "correction_dict = {}\n",
    "remove_set = set()\n",
    "add_dict = {}\n",
    "\n",
    "num_corrected = 0\n",
    "\n",
    "for i in range(len(coe_annotations)):\n",
    "    # ZH Side Numbers\n",
    "    zh_original_result = extract_alignment_pair_space(json.loads(coe_annotations[i]['Input.config_obj'])['alignment'])\n",
    "    zh_corrected_result = extract_alignment_pair_space(json.loads(coe_annotations[i]['Answer.alignment']))\n",
    "    if zh_original_result==zh_corrected_result:\n",
    "        continue\n",
    "    mention_id = correction_inputs_ids[i]['mention_id']\n",
    "    num_corrected += 1\n",
    "    # Build char_to_word idx map\n",
    "    sent_id = en_mention_dict[mention_id][0]\n",
    "    sent_char = all_zh_data_char[mention_id[:10]]['sentences'][sent_id]\n",
    "    sent_word = all_zh_data[mention_id[:10]]['sentences'][sent_id]\n",
    "    map_char_word = {}\n",
    "    count = 0\n",
    "    for idx_w, word in enumerate(sent_word):\n",
    "        for char in word:\n",
    "            map_char_word[count] = idx_w\n",
    "            count += 1\n",
    "    # Extract Mention start_end and convert from char level to word level\n",
    "    a = ()\n",
    "    b = ()\n",
    "    if zh_original_result:\n",
    "        a_temp = extract_pair(zh_original_result)\n",
    "        if a_temp:\n",
    "            a = (map_char_word[a_temp[0]], map_char_word[a_temp[1] - 1] + 1)\n",
    "    if zh_corrected_result:\n",
    "        b_temp = extract_pair(zh_corrected_result)\n",
    "        b = (map_char_word[b_temp[0]], map_char_word[b_temp[1] - 1] + 1)\n",
    "\n",
    "    if b==(): # Add mention_id to remove set\n",
    "        remove_set.add(mention_id)\n",
    "    elif a==(): # Collect mentions to add\n",
    "        add_dict[mention_id] = [sent_id, b[0], b[1]]\n",
    "    else:\n",
    "        correction_dict[mention_id] = [sent_id, b[0], b[1]]"
   ],
   "metadata": {
    "collapsed": false,
    "pycharm": {
     "name": "#%%\n"
    }
   }
  },
  {
   "cell_type": "code",
   "execution_count": null,
   "outputs": [],
   "source": [],
   "metadata": {
    "collapsed": false,
    "pycharm": {
     "name": "#%%\n"
    }
   }
  },
  {
   "cell_type": "code",
   "execution_count": 22,
   "outputs": [
    {
     "name": "stdout",
     "output_type": "stream",
     "text": [
      "1967 7671\n"
     ]
    }
   ],
   "source": [
    "print(num_corrected, len(coe_annotations))"
   ],
   "metadata": {
    "collapsed": false,
    "pycharm": {
     "name": "#%%\n"
    }
   }
  },
  {
   "cell_type": "code",
   "execution_count": null,
   "outputs": [],
   "source": [],
   "metadata": {
    "collapsed": false,
    "pycharm": {
     "name": "#%%\n"
    }
   }
  },
  {
   "cell_type": "code",
   "execution_count": null,
   "outputs": [],
   "source": [],
   "metadata": {
    "collapsed": false,
    "pycharm": {
     "name": "#%%\n"
    }
   }
  },
  {
   "cell_type": "code",
   "execution_count": 9,
   "outputs": [],
   "source": [
    "import pickle as pkl\n",
    "\n",
    "scene_ids = set()\n",
    "for item in correction_dict:\n",
    "    scene_ids.add(item[:10])\n",
    "for item in remove_set:\n",
    "    scene_ids.add(item[:10])\n",
    "for item in add_dict:\n",
    "    scene_ids.add(item[:10])\n",
    "\n",
    "all_results = {}\n",
    "for item in scene_ids:\n",
    "    all_results[item] = {\n",
    "        \"correction_dict\": {},\n",
    "        \"remove_set\": set(),\n",
    "        \"add_dict\": {}\n",
    "    }\n",
    "\n",
    "for item in remove_set:\n",
    "    all_results[item[:10]]['remove_set'].add(item)\n",
    "for item in correction_dict:\n",
    "    all_results[item[:10]]['correction_dict'][item] = correction_dict[item]\n",
    "for item in add_dict:\n",
    "    all_results[item[:10]]['add_dict'][item] = add_dict[item]\n",
    "\n",
    "with open('data/zh/all_correction_results.pkl', 'wb') as f:\n",
    "    pkl.dump(all_results, f)"
   ],
   "metadata": {
    "collapsed": false,
    "pycharm": {
     "name": "#%%\n"
    }
   }
  },
  {
   "cell_type": "code",
   "execution_count": 10,
   "outputs": [
    {
     "name": "stdout",
     "output_type": "stream",
     "text": [
      "{'s09e16c01t': {'correction_dict': {'s09e16c01t|13': [0, 1, 3], 's09e16c01t|21': [2, 11, 13], 's09e16c01t|30': [2, 3, 5], 's09e16c01t|39': [3, 4, 7], 's09e16c01t|66': [9, 6, 7], 's09e16c01t|80': [16, 1, 2], 's09e16c01t|82': [16, 6, 7], 's09e16c01t|85': [16, 12, 13], 's09e16c01t|100': [16, 11, 13], 's09e16c01t|103': [16, 22, 25], 's09e16c01t|110': [17, 2, 4]}, 'remove_set': set(), 'add_dict': {'s09e16c01t|4': [0, 1, 4], 's09e16c01t|5': [0, 2, 3], 's09e16c01t|9': [0, 1, 2]}}, 's09e07c03t': {'correction_dict': {'s09e07c03t|0': [0, 0, 3], 's09e07c03t|3': [1, 0, 24], 's09e07c03t|6': [1, 1, 3], 's09e07c03t|12': [1, 16, 18], 's09e07c03t|28': [5, 4, 5]}, 'remove_set': set(), 'add_dict': {'s09e07c03t|4': [1, 1, 2], 's09e07c03t|26': [4, 5, 6], 's09e07c03t|42': [9, 0, 1], 's09e07c03t|55': [11, 3, 4], 's09e07c03t|69': [12, 0, 1]}}, 's09e10c04t': {'correction_dict': {'s09e10c04t|15': [3, 1, 2], 's09e10c04t|16': [3, 1, 3], 's09e10c04t|22': [3, 16, 17], 's09e10c04t|28': [4, 7, 17], 's09e10c04t|37': [5, 6, 8], 's09e10c04t|59': [7, 21, 22], 's09e10c04t|76': [9, 2, 3], 's09e10c04t|107': [12, 0, 1]}, 'remove_set': {'s09e10c04t|100'}, 'add_dict': {'s09e10c04t|3': [0, 4, 5], 's09e10c04t|9': [2, 3, 4], 's09e10c04t|14': [3, 0, 1], 's09e10c04t|19': [3, 3, 4], 's09e10c04t|42': [6, 5, 6], 's09e10c04t|47': [7, 3, 4], 's09e10c04t|60': [7, 21, 22], 's09e10c04t|75': [9, 0, 1], 's09e10c04t|91': [10, 15, 16], 's09e10c04t|94': [10, 15, 16]}}, 's09e04c09t': {'correction_dict': {'s09e04c09t|7': [1, 7, 9], 's09e04c09t|26': [3, 4, 5], 's09e04c09t|38': [4, 2, 3], 's09e04c09t|44': [4, 5, 7], 's09e04c09t|62': [8, 0, 2]}, 'remove_set': set(), 'add_dict': {'s09e04c09t|17': [2, 29, 30], 's09e04c09t|42': [4, 10, 11], 's09e04c09t|49': [5, 2, 3]}}, 's09e04c10t': {'correction_dict': {'s09e04c10t|36': [8, 5, 6], 's09e04c10t|47': [9, 11, 12]}, 'remove_set': {'s09e04c10t|15', 's09e04c10t|21', 's09e04c10t|58'}, 'add_dict': {'s09e04c10t|41': [9, 5, 6]}}, 's09e16c00t': {'correction_dict': {'s09e16c00t|15': [4, 6, 9], 's09e16c00t|18': [4, 13, 14], 's09e16c00t|19': [4, 10, 11], 's09e16c00t|92': [14, 23, 26], 's09e16c00t|101': [14, 36, 38], 's09e16c00t|113': [16, 4, 6], 's09e16c00t|150': [18, 11, 12]}, 'remove_set': {'s09e16c00t|160', 's09e16c00t|61', 's09e16c00t|60', 's09e16c00t|154'}, 'add_dict': {'s09e16c00t|8': [3, 0, 1], 's09e16c00t|16': [4, 6, 7], 's09e16c00t|29': [5, 2, 3], 's09e16c00t|50': [10, 19, 20], 's09e16c00t|58': [12, 0, 1], 's09e16c00t|65': [12, 13, 14], 's09e16c00t|81': [14, 11, 12], 's09e16c00t|86': [14, 18, 19], 's09e16c00t|89': [14, 21, 22], 's09e16c00t|102': [14, 39, 40], 's09e16c00t|104': [15, 0, 1], 's09e16c00t|119': [16, 14, 15], 's09e16c00t|122': [16, 14, 15], 's09e16c00t|124': [16, 20, 21], 's09e16c00t|128': [16, 22, 23], 's09e16c00t|135': [16, 36, 37], 's09e16c00t|138': [16, 38, 39]}}, 's09e03c10t': {'correction_dict': {'s09e03c10t|11': [2, 2, 4], 's09e03c10t|13': [3, 3, 10], 's09e03c10t|16': [4, 5, 8], 's09e03c10t|29': [5, 12, 13], 's09e03c10t|40': [6, 4, 5], 's09e03c10t|41': [6, 7, 8], 's09e03c10t|43': [7, 2, 3], 's09e03c10t|48': [7, 7, 8], 's09e03c10t|57': [8, 5, 6], 's09e03c10t|69': [9, 8, 9], 's09e03c10t|70': [9, 5, 8], 's09e03c10t|72': [9, 4, 5]}, 'remove_set': {'s09e03c10t|34', 's09e03c10t|12', 's09e03c10t|71', 's09e03c10t|42', 's09e03c10t|33'}, 'add_dict': {'s09e03c10t|4': [1, 4, 5], 's09e03c10t|9': [2, 2, 3], 's09e03c10t|52': [8, 1, 2], 's09e03c10t|64': [9, 4, 5], 's09e03c10t|92': [9, 26, 27], 's09e03c10t|97': [9, 29, 30]}}, 's09e07c06t': {'correction_dict': {'s09e07c06t|0': [0, 3, 4], 's09e07c06t|13': [0, 23, 26], 's09e07c06t|14': [0, 23, 26], 's09e07c06t|32': [2, 24, 25], 's09e07c06t|35': [2, 27, 29], 's09e07c06t|42': [3, 5, 6], 's09e07c06t|48': [6, 4, 8], 's09e07c06t|51': [6, 8, 14], 's09e07c06t|54': [6, 13, 14], 's09e07c06t|64': [8, 0, 1], 's09e07c06t|74': [8, 13, 14], 's09e07c06t|76': [8, 13, 14], 's09e07c06t|89': [12, 0, 9], 's09e07c06t|91': [12, 0, 1], 's09e07c06t|96': [12, 5, 7], 's09e07c06t|125': [17, 5, 6], 's09e07c06t|134': [17, 15, 19], 's09e07c06t|157': [20, 2, 3], 's09e07c06t|191': [23, 12, 16], 's09e07c06t|196': [23, 24, 25], 's09e07c06t|203': [23, 33, 34], 's09e07c06t|209': [23, 47, 49], 's09e07c06t|222': [25, 5, 6], 's09e07c06t|274': [30, 7, 9], 's09e07c06t|360': [42, 39, 42]}, 'remove_set': {'s09e07c06t|170', 's09e07c06t|236', 's09e07c06t|282', 's09e07c06t|301', 's09e07c06t|144', 's09e07c06t|140', 's09e07c06t|3', 's09e07c06t|219', 's09e07c06t|160', 's09e07c06t|82', 's09e07c06t|4', 's09e07c06t|375', 's09e07c06t|240', 's09e07c06t|8', 's09e07c06t|105', 's09e07c06t|366', 's09e07c06t|270', 's09e07c06t|68', 's09e07c06t|342', 's09e07c06t|154', 's09e07c06t|296', 's09e07c06t|166', 's09e07c06t|325', 's09e07c06t|238', 's09e07c06t|221', 's09e07c06t|63', 's09e07c06t|103', 's09e07c06t|142', 's09e07c06t|294', 's09e07c06t|369', 's09e07c06t|281', 's09e07c06t|29', 's09e07c06t|374', 's09e07c06t|57', 's09e07c06t|85', 's09e07c06t|377', 's09e07c06t|59'}, 'add_dict': {'s09e07c06t|36': [2, 27, 28], 's09e07c06t|44': [4, 0, 1], 's09e07c06t|55': [6, 11, 13], 's09e07c06t|70': [8, 12, 13], 's09e07c06t|72': [8, 12, 13], 's09e07c06t|80': [9, 2, 3], 's09e07c06t|122': [16, 2, 3], 's09e07c06t|131': [17, 12, 13], 's09e07c06t|172': [21, 11, 13], 's09e07c06t|205': [23, 37, 38], 's09e07c06t|213': [23, 59, 60], 's09e07c06t|265': [28, 36, 37], 's09e07c06t|290': [32, 20, 21], 's09e07c06t|306': [39, 6, 7], 's09e07c06t|316': [39, 20, 21], 's09e07c06t|320': [39, 22, 23], 's09e07c06t|331': [41, 5, 6], 's09e07c06t|350': [42, 23, 24], 's09e07c06t|353': [42, 29, 30], 's09e07c06t|371': [44, 10, 11]}}, 's09e10c03t': {'correction_dict': {'s09e10c03t|6': [2, 1, 2], 's09e10c03t|58': [7, 9, 10], 's09e10c03t|74': [12, 2, 3]}, 'remove_set': {'s09e10c03t|53', 's09e10c03t|51'}, 'add_dict': {'s09e10c03t|2': [1, 0, 1], 's09e10c03t|12': [4, 14, 15], 's09e10c03t|16': [4, 5, 6], 's09e10c03t|30': [5, 8, 9]}}, 's09e12c01t': {'correction_dict': {'s09e12c01t|15': [6, 20, 22], 's09e12c01t|25': [7, 8, 12], 's09e12c01t|28': [7, 19, 21], 's09e12c01t|37': [9, 4, 6], 's09e12c01t|49': [12, 3, 4], 's09e12c01t|123': [28, 6, 7]}, 'remove_set': {'s09e12c01t|112', 's09e12c01t|59', 's09e12c01t|90', 's09e12c01t|129', 's09e12c01t|39', 's09e12c01t|108', 's09e12c01t|89'}, 'add_dict': {'s09e12c01t|5': [6, 1, 2], 's09e12c01t|18': [7, 2, 3], 's09e12c01t|125': [28, 6, 7], 's09e12c01t|127': [29, 0, 1]}}, 's09e09c11t': {'correction_dict': {'s09e09c11t|4': [1, 3, 4], 's09e09c11t|34': [7, 10, 21], 's09e09c11t|36': [7, 18, 20], 's09e09c11t|40': [7, 23, 25], 's09e09c11t|59': [9, 16, 45], 's09e09c11t|60': [9, 17, 45], 's09e09c11t|64': [9, 29, 45], 's09e09c11t|65': [9, 39, 45], 's09e09c11t|76': [10, 6, 7], 's09e09c11t|100': [13, 2, 4], 's09e09c11t|114': [15, 16, 17], 's09e09c11t|136': [16, 13, 15], 's09e09c11t|142': [16, 17, 18]}, 'remove_set': {'s09e09c11t|28', 's09e09c11t|26', 's09e09c11t|68', 's09e09c11t|25'}, 'add_dict': {'s09e09c11t|22': [6, 11, 12], 's09e09c11t|29': [7, 4, 5], 's09e09c11t|43': [8, 3, 4], 's09e09c11t|52': [9, 25, 26], 's09e09c11t|54': [9, 22, 23], 's09e09c11t|61': [9, 26, 27], 's09e09c11t|78': [11, 0, 1], 's09e09c11t|87': [11, 7, 8], 's09e09c11t|139': [16, 16, 17]}}, 's01e14c13f': {'correction_dict': {'s01e14c13f|7': [1, 5, 8], 's01e14c13f|15': [3, 2, 4], 's01e14c13f|19': [3, 7, 9], 's01e14c13f|88': [12, 6, 9], 's01e14c13f|89': [12, 6, 8], 's01e14c13f|91': [12, 6, 9], 's01e14c13f|95': [12, 13, 15], 's01e14c13f|97': [12, 13, 15]}, 'remove_set': {'s01e14c13f|87', 's01e14c13f|94'}, 'add_dict': {'s01e14c13f|30': [3, 14, 15], 's01e14c13f|48': [7, 0, 1], 's01e14c13f|50': [8, 1, 2], 's01e14c13f|57': [8, 15, 16], 's01e14c13f|75': [10, 19, 20], 's01e14c13f|113': [12, 36, 37], 's01e14c13f|118': [12, 42, 43]}}, 's09e11c03t': {'correction_dict': {'s09e11c03t|11': [1, 7, 10]}, 'remove_set': set(), 'add_dict': {'s09e11c03t|9': [1, 7, 8], 's09e11c03t|14': [3, 2, 3], 's09e11c03t|37': [5, 0, 1], 's09e11c03t|50': [7, 0, 1]}}, 's09e07c07t': {'correction_dict': {'s09e07c07t|2': [1, 11, 12], 's09e07c07t|19': [5, 14, 15], 's09e07c07t|55': [11, 6, 7], 's09e07c07t|58': [11, 12, 13], 's09e07c07t|66': [11, 21, 27], 's09e07c07t|102': [16, 3, 4]}, 'remove_set': {'s09e07c07t|54', 's09e07c07t|52', 's09e07c07t|74', 's09e07c07t|44', 's09e07c07t|72', 's09e07c07t|33', 's09e07c07t|7', 's09e07c07t|18', 's09e07c07t|62', 's09e07c07t|13', 's09e07c07t|8', 's09e07c07t|86', 's09e07c07t|97', 's09e07c07t|10', 's09e07c07t|46', 's09e07c07t|90', 's09e07c07t|49', 's09e07c07t|95', 's09e07c07t|96', 's09e07c07t|30'}, 'add_dict': {'s09e07c07t|56': [11, 10, 11], 's09e07c07t|87': [13, 18, 19], 's09e07c07t|99': [15, 5, 6]}}, 's09e12c05t': {'correction_dict': {'s09e12c05t|18': [1, 4, 5], 's09e12c05t|38': [5, 1, 2], 's09e12c05t|46': [8, 5, 6], 's09e12c05t|48': [8, 10, 12], 's09e12c05t|73': [12, 0, 1]}, 'remove_set': set(), 'add_dict': {'s09e12c05t|5': [0, 2, 3], 's09e12c05t|37': [4, 2, 3], 's09e12c05t|49': [8, 12, 13], 's09e12c05t|65': [11, 0, 1], 's09e12c05t|75': [12, 1, 2]}}, 's09e11c12t': {'correction_dict': {'s09e11c12t|8': [4, 2, 3], 's09e11c12t|30': [5, 13, 14], 's09e11c12t|42': [9, 2, 3], 's09e11c12t|49': [10, 6, 11], 's09e11c12t|50': [10, 7, 9], 's09e11c12t|62': [12, 2, 3], 's09e11c12t|64': [12, 4, 7], 's09e11c12t|68': [12, 9, 12], 's09e11c12t|82': [13, 13, 14], 's09e11c12t|87': [14, 8, 10], 's09e11c12t|88': [14, 4, 10], 's09e11c12t|107': [16, 7, 8], 's09e11c12t|127': [19, 3, 5]}, 'remove_set': {'s09e11c12t|54', 's09e11c12t|22', 's09e11c12t|141', 's09e11c12t|79', 's09e11c12t|121'}, 'add_dict': {'s09e11c12t|19': [4, 21, 22], 's09e11c12t|23': [5, 4, 5], 's09e11c12t|25': [5, 6, 7], 's09e11c12t|29': [5, 13, 14], 's09e11c12t|56': [11, 2, 3], 's09e11c12t|60': [12, 1, 2], 's09e11c12t|69': [12, 13, 14], 's09e11c12t|98': [16, 10, 11], 's09e11c12t|100': [16, 12, 13], 's09e11c12t|138': [20, 6, 7], 's09e11c12t|140': [20, 9, 10]}}, 's09e09c01t': {'correction_dict': {'s09e09c01t|11': [2, 7, 8], 's09e09c01t|12': [2, 8, 9], 's09e09c01t|24': [3, 16, 18], 's09e09c01t|30': [3, 27, 30], 's09e09c01t|44': [5, 24, 29], 's09e09c01t|47': [6, 0, 1], 's09e09c01t|58': [7, 8, 9], 's09e09c01t|77': [9, 2, 3], 's09e09c01t|97': [12, 2, 4], 's09e09c01t|99': [13, 0, 2]}, 'remove_set': {'s09e09c01t|98', 's09e09c01t|0'}, 'add_dict': {'s09e09c01t|33': [4, 2, 3], 's09e09c01t|61': [8, 3, 4], 's09e09c01t|75': [8, 21, 22], 's09e09c01t|82': [10, 2, 3]}}, 's01e13c09f': {'correction_dict': {'s01e13c09f|0': [0, 4, 5], 's01e13c09f|8': [1, 2, 9], 's01e13c09f|44': [5, 17, 19], 's01e13c09f|50': [5, 22, 24], 's01e13c09f|65': [7, 14, 21], 's01e13c09f|66': [7, 14, 15], 's01e13c09f|68': [7, 16, 17], 's01e13c09f|77': [8, 2, 3], 's01e13c09f|134': [12, 4, 5], 's01e13c09f|159': [15, 2, 3], 's01e13c09f|164': [16, 4, 7]}, 'remove_set': {'s01e13c09f|26', 's01e13c09f|15', 's01e13c09f|63', 's01e13c09f|21', 's01e13c09f|62'}, 'add_dict': {'s01e13c09f|17': [3, 9, 10], 's01e13c09f|48': [5, 22, 23], 's01e13c09f|80': [8, 3, 4], 's01e13c09f|110': [9, 34, 35], 's01e13c09f|112': [9, 34, 35], 's01e13c09f|114': [9, 40, 41], 's01e13c09f|125': [11, 9, 10]}}, 's09e10c05t': {'correction_dict': {'s09e10c05t|0': [0, 2, 3], 's09e10c05t|3': [0, 6, 7], 's09e10c05t|5': [0, 14, 15], 's09e10c05t|7': [0, 14, 21], 's09e10c05t|10': [1, 1, 2], 's09e10c05t|17': [3, 1, 3], 's09e10c05t|22': [3, 8, 10], 's09e10c05t|23': [3, 8, 9], 's09e10c05t|33': [6, 0, 1], 's09e10c05t|40': [6, 24, 26], 's09e10c05t|46': [6, 28, 32], 's09e10c05t|58': [6, 50, 52], 's09e10c05t|78': [8, 4, 6], 's09e10c05t|90': [8, 11, 12]}, 'remove_set': set(), 'add_dict': {'s09e10c05t|31': [5, 1, 2], 's09e10c05t|85': [8, 16, 17], 's09e10c05t|86': [8, 16, 17]}}, 's09e11c02t': {'correction_dict': {'s09e11c02t|6': [2, 1, 2], 's09e11c02t|8': [2, 5, 6], 's09e11c02t|11': [2, 7, 8], 's09e11c02t|30': [4, 15, 16], 's09e11c02t|37': [5, 2, 4], 's09e11c02t|41': [5, 6, 7], 's09e11c02t|50': [6, 17, 18], 's09e11c02t|53': [7, 0, 1], 's09e11c02t|54': [6, 20, 22], 's09e11c02t|57': [7, 1, 2], 's09e11c02t|113': [14, 8, 20], 's09e11c02t|116': [14, 16, 20]}, 'remove_set': {'s09e11c02t|115', 's09e11c02t|34', 's09e11c02t|68', 's09e11c02t|33'}, 'add_dict': {'s09e11c02t|1': [1, 0, 1], 's09e11c02t|28': [4, 17, 18], 's09e11c02t|47': [5, 13, 14], 's09e11c02t|66': [8, 10, 11], 's09e11c02t|105': [14, 2, 3], 's09e11c02t|111': [14, 8, 9], 's09e11c02t|117': [14, 8, 9], 's09e11c02t|132': [18, 5, 6]}}, 's01e13c06f': {'correction_dict': {'s01e13c06f|2': [0, 4, 5], 's01e13c06f|9': [1, 4, 6], 's01e13c06f|29': [5, 15, 16], 's01e13c06f|31': [5, 17, 20], 's01e13c06f|37': [5, 33, 34], 's01e13c06f|69': [8, 25, 27]}, 'remove_set': set(), 'add_dict': {'s01e13c06f|35': [5, 31, 32], 's01e13c06f|46': [6, 6, 8]}}, 's09e11c14t': {'correction_dict': {}, 'remove_set': {'s09e11c14t|6', 's09e11c14t|19', 's09e11c14t|0', 's09e11c14t|10', 's09e11c14t|3'}, 'add_dict': {'s09e11c14t|12': [2, 0, 1], 's09e11c14t|15': [2, 0, 1], 's09e11c14t|26': [3, 0, 1], 's09e11c14t|34': [3, 9, 10]}}, 's09e09c05t': {'correction_dict': {'s09e09c05t|8': [0, 7, 9], 's09e09c05t|36': [3, 20, 22]}, 'remove_set': {'s09e09c05t|21'}, 'add_dict': {'s09e09c05t|6': [0, 5, 6], 's09e09c05t|9': [0, 13, 14]}}, 's09e09c08t': {'correction_dict': {'s09e09c08t|17': [3, 7, 9], 's09e09c08t|19': [4, 0, 10], 's09e09c08t|35': [6, 7, 13], 's09e09c08t|47': [7, 9, 11], 's09e09c08t|52': [8, 11, 15], 's09e09c08t|54': [8, 16, 19], 's09e09c08t|69': [10, 2, 4], 's09e09c08t|71': [11, 0, 1]}, 'remove_set': set(), 'add_dict': {'s09e09c08t|18': [3, 9, 10], 's09e09c08t|38': [6, 13, 14], 's09e09c08t|50': [8, 5, 7]}}, 's09e10c14t': {'correction_dict': {'s09e10c14t|9': [0, 9, 11], 's09e10c14t|44': [7, 0, 1], 's09e10c14t|55': [8, 14, 18], 's09e10c14t|75': [9, 25, 33], 's09e10c14t|79': [9, 33, 34], 's09e10c14t|81': [9, 33, 39], 's09e10c14t|83': [9, 36, 38], 's09e10c14t|88': [10, 4, 6]}, 'remove_set': set(), 'add_dict': {'s09e10c14t|7': [0, 9, 10], 's09e10c14t|12': [1, 2, 3], 's09e10c14t|40': [5, 12, 13], 's09e10c14t|71': [9, 20, 21], 's09e10c14t|82': [9, 33, 34], 's09e10c14t|92': [10, 0, 1]}}, 's01e13c04f': {'correction_dict': {'s01e13c04f|33': [5, 9, 11], 's01e13c04f|34': [5, 9, 10], 's01e13c04f|41': [6, 0, 1], 's01e13c04f|44': [6, 5, 6]}, 'remove_set': set(), 'add_dict': {'s01e13c04f|5': [1, 0, 1], 's01e13c04f|28': [5, 6, 8], 's01e13c04f|31': [5, 8, 9]}}, 's09e12c09t': {'correction_dict': {'s09e12c09t|5': [0, 15, 19], 's09e12c09t|27': [2, 3, 6], 's09e12c09t|29': [2, 2, 4], 's09e12c09t|36': [3, 2, 5], 's09e12c09t|38': [3, 2, 3], 's09e12c09t|43': [4, 3, 4], 's09e12c09t|50': [7, 0, 1], 's09e12c09t|81': [10, 17, 19], 's09e12c09t|154': [21, 5, 20], 's09e12c09t|158': [21, 6, 19], 's09e12c09t|178': [24, 0, 1], 's09e12c09t|186': [26, 6, 9], 's09e12c09t|190': [26, 26, 32], 's09e12c09t|195': [26, 36, 38], 's09e12c09t|240': [35, 4, 13], 's09e12c09t|243': [35, 10, 13], 's09e12c09t|246': [35, 9, 11]}, 'remove_set': {'s09e12c09t|201', 's09e12c09t|217', 's09e12c09t|231', 's09e12c09t|200', 's09e12c09t|211'}, 'add_dict': {'s09e12c09t|25': [2, 2, 3], 's09e12c09t|34': [3, 2, 3], 's09e12c09t|39': [4, 0, 1], 's09e12c09t|85': [11, 9, 10], 's09e12c09t|95': [12, 11, 12], 's09e12c09t|107': [14, 5, 6], 's09e12c09t|150': [21, 0, 1], 's09e12c09t|152': [21, 4, 5], 's09e12c09t|170': [23, 1, 2], 's09e12c09t|209': [31, 7, 8], 's09e12c09t|244': [35, 9, 10]}}, 's09e12c04t': {'correction_dict': {'s09e12c04t|2': [0, 4, 5], 's09e12c04t|4': [0, 0, 2], 's09e12c04t|19': [2, 2, 4], 's09e12c04t|25': [3, 4, 5], 's09e12c04t|51': [6, 0, 19], 's09e12c04t|56': [6, 11, 18], 's09e12c04t|69': [8, 10, 11], 's09e12c04t|73': [9, 3, 7], 's09e12c04t|79': [10, 2, 4], 's09e12c04t|107': [14, 4, 12]}, 'remove_set': {'s09e12c04t|101', 's09e12c04t|58'}, 'add_dict': {'s09e12c04t|0': [0, 5, 6], 's09e12c04t|76': [10, 1, 2], 's09e12c04t|82': [10, 7, 8], 's09e12c04t|93': [12, 7, 8], 's09e12c04t|110': [14, 11, 12]}}, 's09e11c16t': {'correction_dict': {'s09e11c16t|58': [10, 0, 1], 's09e11c16t|69': [12, 3, 11]}, 'remove_set': {'s09e11c16t|9', 's09e11c16t|20', 's09e11c16t|33', 's09e11c16t|38', 's09e11c16t|24', 's09e11c16t|13', 's09e11c16t|26'}, 'add_dict': {}}, 's09e12c12t': {'correction_dict': {'s09e12c12t|2': [0, 0, 1], 's09e12c12t|6': [1, 5, 6]}, 'remove_set': set(), 'add_dict': {}}, 's09e09c12t': {'correction_dict': {'s09e09c12t|56': [10, 0, 2], 's09e09c12t|73': [12, 10, 11], 's09e09c12t|94': [13, 35, 39], 's09e09c12t|101': [15, 4, 6], 's09e09c12t|149': [18, 44, 45], 's09e09c12t|176': [22, 5, 6]}, 'remove_set': {'s09e09c12t|27'}, 'add_dict': {'s09e09c12t|52': [9, 4, 5], 's09e09c12t|60': [10, 6, 7], 's09e09c12t|88': [13, 25, 26], 's09e09c12t|137': [15, 3, 4], 's09e09c12t|168': [20, 9, 10]}}, 's09e16c13t': {'correction_dict': {'s09e16c13t|0': [0, 3, 5]}, 'remove_set': set(), 'add_dict': {}}, 's09e07c05t': {'correction_dict': {'s09e07c05t|60': [12, 1, 2]}, 'remove_set': {'s09e07c05t|45', 's09e07c05t|61', 's09e07c05t|19', 's09e07c05t|43'}, 'add_dict': {'s09e07c05t|63': [13, 0, 1], 's09e07c05t|71': [14, 3, 4]}}, 's09e10c01t': {'correction_dict': {'s09e10c01t|0': [0, 7, 8], 's09e10c01t|11': [3, 1, 3], 's09e10c01t|15': [3, 10, 11], 's09e10c01t|16': [4, 0, 2], 's09e10c01t|27': [5, 6, 11], 's09e10c01t|28': [5, 6, 9], 's09e10c01t|30': [5, 11, 12], 's09e10c01t|49': [9, 5, 6], 's09e10c01t|58': [9, 12, 14]}, 'remove_set': {'s09e10c01t|67', 's09e10c01t|65'}, 'add_dict': {'s09e10c01t|13': [3, 8, 9], 's09e10c01t|31': [6, 4, 5], 's09e10c01t|33': [6, 5, 6], 's09e10c01t|51': [9, 9, 10], 's09e10c01t|69': [12, 4, 5]}}, 's01e13c01f': {'correction_dict': {'s01e13c01f|4': [0, 5, 7], 's01e13c01f|9': [0, 10, 11], 's01e13c01f|35': [5, 3, 4], 's01e13c01f|49': [8, 3, 4], 's01e13c01f|56': [9, 0, 1], 's01e13c01f|78': [12, 2, 3], 's01e13c01f|91': [16, 6, 8], 's01e13c01f|98': [17, 2, 4], 's01e13c01f|105': [18, 6, 8], 's01e13c01f|118': [20, 5, 7], 's01e13c01f|120': [20, 8, 9], 's01e13c01f|124': [20, 9, 11], 's01e13c01f|128': [21, 2, 3], 's01e13c01f|152': [25, 3, 4], 's01e13c01f|169': [27, 9, 11], 's01e13c01f|186': [29, 13, 14], 's01e13c01f|227': [32, 7, 8], 's01e13c01f|240': [35, 8, 9], 's01e13c01f|262': [40, 0, 4], 's01e13c01f|276': [42, 15, 18]}, 'remove_set': {'s01e13c01f|259', 's01e13c01f|267', 's01e13c01f|24', 's01e13c01f|53', 's01e13c01f|257'}, 'add_dict': {'s01e13c01f|23': [3, 3, 4], 's01e13c01f|43': [7, 2, 3], 's01e13c01f|59': [9, 1, 2], 's01e13c01f|76': [11, 3, 4], 's01e13c01f|82': [13, 5, 6], 's01e13c01f|158': [26, 1, 2], 's01e13c01f|161': [27, 0, 1], 's01e13c01f|176': [29, 0, 1]}}, 's09e16c06t': {'correction_dict': {'s09e16c06t|0': [0, 0, 7], 's09e16c06t|2': [0, 0, 7], 's09e16c06t|3': [0, 4, 7], 's09e16c06t|7': [1, 3, 5], 's09e16c06t|14': [2, 7, 9], 's09e16c06t|27': [3, 5, 7], 's09e16c06t|29': [3, 9, 12], 's09e16c06t|32': [3, 14, 18], 's09e16c06t|52': [6, 0, 14], 's09e16c06t|54': [6, 1, 8], 's09e16c06t|60': [6, 0, 2], 's09e16c06t|61': [6, 3, 6], 's09e16c06t|66': [8, 1, 2], 's09e16c06t|113': [18, 7, 9], 's09e16c06t|114': [18, 7, 8], 's09e16c06t|117': [19, 5, 8], 's09e16c06t|122': [22, 0, 2], 's09e16c06t|133': [22, 7, 11], 's09e16c06t|135': [22, 8, 9]}, 'remove_set': {'s09e16c06t|56', 's09e16c06t|23'}, 'add_dict': {'s09e16c06t|15': [2, 7, 8], 's09e16c06t|21': [2, 13, 14], 's09e16c06t|30': [3, 9, 10], 's09e16c06t|33': [3, 14, 15], 's09e16c06t|58': [6, 0, 1], 's09e16c06t|82': [12, 2, 3], 's09e16c06t|93': [15, 5, 6], 's09e16c06t|101': [17, 1, 2], 's09e16c06t|104': [17, 4, 5]}}, 's09e16c04t': {'correction_dict': {'s09e16c04t|5': [0, 5, 8]}, 'remove_set': set(), 'add_dict': {}}, 's09e07c01t': {'correction_dict': {'s09e07c01t|15': [3, 4, 6], 's09e07c01t|29': [6, 10, 11], 's09e07c01t|37': [7, 0, 2], 's09e07c01t|41': [7, 5, 7], 's09e07c01t|60': [8, 13, 17], 's09e07c01t|61': [8, 13, 17], 's09e07c01t|73': [9, 0, 1], 's09e07c01t|75': [9, 1, 2], 's09e07c01t|79': [10, 17, 19], 's09e07c01t|83': [10, 3, 4]}, 'remove_set': {'s09e07c01t|6', 's09e07c01t|62', 's09e07c01t|28', 's09e07c01t|64'}, 'add_dict': {'s09e07c01t|26': [6, 2, 3], 's09e07c01t|39': [7, 2, 3], 's09e07c01t|47': [7, 12, 13], 's09e07c01t|50': [8, 1, 2], 's09e07c01t|58': [8, 11, 12], 's09e07c01t|76': [10, 0, 1]}}, 's09e11c09t': {'correction_dict': {'s09e11c09t|29': [5, 3, 4], 's09e11c09t|68': [11, 0, 9], 's09e11c09t|77': [11, 16, 18], 's09e11c09t|91': [13, 4, 9]}, 'remove_set': {'s09e11c09t|102', 's09e11c09t|4', 's09e11c09t|36', 's09e11c09t|45', 's09e11c09t|5', 's09e11c09t|94'}, 'add_dict': {'s09e11c09t|7': [2, 3, 4], 's09e11c09t|19': [3, 17, 18], 's09e11c09t|41': [7, 4, 5], 's09e11c09t|63': [10, 10, 11], 's09e11c09t|75': [11, 11, 12], 's09e11c09t|87': [13, 1, 2], 's09e11c09t|93': [13, 8, 9]}}, 's09e11c13t': {'correction_dict': {'s09e11c13t|11': [1, 11, 12], 's09e11c13t|23': [2, 0, 2], 's09e11c13t|26': [2, 6, 8], 's09e11c13t|39': [3, 6, 7], 's09e11c13t|46': [3, 15, 17], 's09e11c13t|50': [3, 15, 18]}, 'remove_set': {'s09e11c13t|16', 's09e11c13t|18', 's09e11c13t|24', 's09e11c13t|45'}, 'add_dict': {'s09e11c13t|3': [0, 10, 11]}}, 's01e14c05f': {'correction_dict': {'s01e14c05f|7': [0, 4, 5], 's01e14c05f|12': [0, 7, 9], 's01e14c05f|18': [1, 4, 5], 's01e14c05f|28': [2, 5, 11], 's01e14c05f|31': [2, 5, 7], 's01e14c05f|37': [2, 18, 22], 's01e14c05f|38': [2, 19, 21], 's01e14c05f|50': [4, 9, 15], 's01e14c05f|51': [4, 9, 11], 's01e14c05f|73': [9, 2, 10], 's01e14c05f|96': [10, 15, 16], 's01e14c05f|119': [14, 2, 4], 's01e14c05f|170': [22, 10, 12], 's01e14c05f|172': [22, 14, 18], 's01e14c05f|182': [24, 5, 10], 's01e14c05f|184': [24, 5, 9], 's01e14c05f|186': [26, 0, 2], 's01e14c05f|189': [26, 4, 8]}, 'remove_set': {'s01e14c05f|66', 's01e14c05f|163', 's01e14c05f|20', 's01e14c05f|103', 's01e14c05f|72'}, 'add_dict': {'s01e14c05f|5': [0, 2, 3], 's01e14c05f|10': [0, 7, 8], 's01e14c05f|29': [2, 5, 6], 's01e14c05f|32': [2, 13, 14], 's01e14c05f|46': [4, 5, 6], 's01e14c05f|91': [10, 10, 11], 's01e14c05f|108': [12, 2, 3], 's01e14c05f|141': [19, 8, 9], 's01e14c05f|168': [22, 10, 11], 's01e14c05f|183': [24, 5, 6], 's01e14c05f|188': [26, 1, 2]}}, 's09e04c08t': {'correction_dict': {'s09e04c08t|5': [0, 8, 10], 's09e04c08t|18': [2, 5, 6], 's09e04c08t|27': [3, 9, 10], 's09e04c08t|28': [3, 2, 4], 's09e04c08t|30': [3, 3, 4]}, 'remove_set': {'s09e04c08t|17', 's09e04c08t|31', 's09e04c08t|39'}, 'add_dict': {'s09e04c08t|37': [4, 3, 4]}}, 's01e14c03f': {'correction_dict': {'s01e14c03f|4': [0, 5, 6], 's01e14c03f|14': [2, 7, 17], 's01e14c03f|17': [2, 7, 11], 's01e14c03f|20': [3, 6, 7]}, 'remove_set': set(), 'add_dict': {'s01e14c03f|15': [2, 12, 13], 's01e14c03f|18': [3, 4, 5], 's01e14c03f|26': [3, 11, 12], 's01e14c03f|32': [4, 2, 3], 's01e14c03f|34': [4, 4, 5], 's01e14c03f|35': [4, 4, 5], 's01e14c03f|37': [4, 4, 5]}}, 's09e11c05t': {'correction_dict': {'s09e11c05t|38': [10, 7, 12], 's09e11c05t|49': [10, 20, 23], 's09e11c05t|67': [12, 10, 19], 's09e11c05t|79': [14, 26, 28], 's09e11c05t|90': [16, 1, 4], 's09e11c05t|91': [16, 1, 2]}, 'remove_set': {'s09e11c05t|18', 's09e11c05t|103', 's09e11c05t|24', 's09e11c05t|30', 's09e11c05t|97', 's09e11c05t|17'}, 'add_dict': {'s09e11c05t|31': [9, 0, 1], 's09e11c05t|72': [14, 16, 17], 's09e11c05t|112': [18, 7, 8]}}, 's09e09c02t': {'correction_dict': {'s09e09c02t|4': [1, 9, 11], 's09e09c02t|14': [3, 6, 8], 's09e09c02t|21': [5, 0, 1], 's09e09c02t|26': [5, 0, 1]}, 'remove_set': {'s09e09c02t|24'}, 'add_dict': {'s09e09c02t|3': [1, 7, 9], 's09e09c02t|15': [3, 4, 5], 's09e09c02t|28': [5, 5, 6]}}, 's09e12c10t': {'correction_dict': {'s09e12c10t|14': [3, 11, 12], 's09e12c10t|19': [3, 17, 18], 's09e12c10t|68': [7, 0, 4]}, 'remove_set': {'s09e12c10t|27', 's09e12c10t|52'}, 'add_dict': {'s09e12c10t|29': [4, 2, 3], 's09e12c10t|30': [4, 8, 9]}}, 's09e09c04t': {'correction_dict': {'s09e09c04t|3': [2, 0, 8], 's09e09c04t|14': [3, 0, 1], 's09e09c04t|31': [4, 31, 32], 's09e09c04t|47': [7, 6, 8]}, 'remove_set': {'s09e09c04t|65', 's09e09c04t|20', 's09e09c04t|61'}, 'add_dict': {}}, 's09e16c10t': {'correction_dict': {'s09e16c10t|12': [0, 25, 27], 's09e16c10t|29': [0, 46, 48], 's09e16c10t|52': [3, 2, 3], 's09e16c10t|62': [3, 8, 9], 's09e16c10t|72': [3, 15, 16], 's09e16c10t|82': [3, 20, 21], 's09e16c10t|123': [11, 0, 19], 's09e16c10t|147': [14, 0, 1]}, 'remove_set': {'s09e16c10t|128', 's09e16c10t|4'}, 'add_dict': {'s09e16c10t|16': [0, 30, 31], 's09e16c10t|56': [3, 5, 6], 's09e16c10t|135': [12, 3, 4], 's09e16c10t|150': [14, 5, 6], 's09e16c10t|154': [14, 9, 10]}}, 's09e04c01t': {'correction_dict': {'s09e04c01t|15': [3, 2, 3], 's09e04c01t|26': [4, 13, 14], 's09e04c01t|27': [4, 14, 16], 's09e04c01t|33': [4, 26, 28], 's09e04c01t|45': [7, 0, 1], 's09e04c01t|71': [9, 20, 24], 's09e04c01t|75': [10, 1, 2], 's09e04c01t|77': [10, 3, 7], 's09e04c01t|126': [18, 0, 1]}, 'remove_set': {'s09e04c01t|88', 's09e04c01t|105', 's09e04c01t|121', 's09e04c01t|81', 's09e04c01t|120'}, 'add_dict': {'s09e04c01t|34': [4, 26, 27], 's09e04c01t|40': [5, 2, 3], 's09e04c01t|78': [10, 6, 7], 's09e04c01t|84': [10, 6, 7], 's09e04c01t|92': [10, 19, 20], 's09e04c01t|128': [18, 1, 2]}}, 's09e11c06t': {'correction_dict': {'s09e11c06t|9': [1, 2, 7], 's09e11c06t|31': [4, 0, 2], 's09e11c06t|34': [4, 5, 7], 's09e11c06t|51': [7, 5, 6]}, 'remove_set': set(), 'add_dict': {'s09e11c06t|14': [2, 3, 4], 's09e11c06t|25': [3, 5, 6]}}, 's01e14c02f': {'correction_dict': {'s01e14c02f|5': [1, 3, 4], 's01e14c02f|10': [1, 12, 13], 's01e14c02f|14': [1, 17, 18], 's01e14c02f|27': [4, 2, 4], 's01e14c02f|38': [4, 16, 20], 's01e14c02f|40': [4, 19, 20], 's01e14c02f|41': [4, 20, 22], 's01e14c02f|43': [4, 23, 25], 's01e14c02f|47': [6, 2, 7]}, 'remove_set': set(), 'add_dict': {'s01e14c02f|4': [1, 4, 5], 's01e14c02f|25': [4, 2, 3], 's01e14c02f|32': [4, 6, 7]}}, 's09e07c02t': {'correction_dict': {'s09e07c02t|15': [0, 11, 12], 's09e07c02t|36': [0, 51, 52], 's09e07c02t|47': [0, 70, 72], 's09e07c02t|91': [6, 26, 30]}, 'remove_set': {'s09e07c02t|53', 's09e07c02t|43'}, 'add_dict': {'s09e07c02t|0': [0, 0, 1], 's09e07c02t|1': [0, 1, 3], 's09e07c02t|13': [0, 10, 11], 's09e07c02t|24': [0, 32, 33], 's09e07c02t|59': [2, 3, 4], 's09e07c02t|62': [2, 4, 5], 's09e07c02t|64': [2, 5, 6], 's09e07c02t|75': [6, 4, 5], 's09e07c02t|85': [6, 16, 17]}}, 's09e09c00t': {'correction_dict': {'s09e09c00t|16': [2, 4, 5], 's09e09c00t|45': [7, 4, 5], 's09e09c00t|81': [9, 36, 37], 's09e09c00t|84': [9, 41, 48], 's09e09c00t|102': [10, 2, 4]}, 'remove_set': {'s09e09c00t|119', 's09e09c00t|47'}, 'add_dict': {'s09e09c00t|7': [0, 4, 5], 's09e09c00t|9': [0, 6, 7], 's09e09c00t|13': [1, 2, 3], 's09e09c00t|24': [4, 11, 12], 's09e09c00t|35': [6, 0, 1], 's09e09c00t|61': [9, 11, 12], 's09e09c00t|67': [9, 26, 27], 's09e09c00t|69': [9, 27, 28], 's09e09c00t|91': [9, 48, 49], 's09e09c00t|116': [13, 1, 2], 's09e09c00t|133': [17, 0, 1]}}, 's09e12c13t': {'correction_dict': {'s09e12c13t|2': [0, 3, 4]}, 'remove_set': set(), 'add_dict': {'s09e12c13t|0': [0, 2, 3]}}, 's09e03c09t': {'correction_dict': {'s09e03c09t|18': [2, 2, 3], 's09e03c09t|25': [3, 11, 12], 's09e03c09t|26': [3, 10, 11], 's09e03c09t|62': [8, 11, 12], 's09e03c09t|91': [12, 5, 6], 's09e03c09t|103': [13, 1, 2], 's09e03c09t|141': [19, 12, 14], 's09e03c09t|154': [20, 10, 11], 's09e03c09t|178': [22, 11, 12], 's09e03c09t|203': [27, 8, 9], 's09e03c09t|217': [29, 5, 6], 's09e03c09t|230': [33, 4, 5], 's09e03c09t|234': [33, 6, 7], 's09e03c09t|252': [36, 3, 5], 's09e03c09t|267': [39, 5, 7], 's09e03c09t|270': [41, 6, 7]}, 'remove_set': {'s09e03c09t|0', 's09e03c09t|3', 's09e03c09t|268', 's09e03c09t|17', 's09e03c09t|196', 's09e03c09t|197', 's09e03c09t|123'}, 'add_dict': {'s09e03c09t|6': [1, 0, 1], 's09e03c09t|42': [5, 1, 2], 's09e03c09t|69': [9, 4, 5], 's09e03c09t|74': [10, 2, 3], 's09e03c09t|81': [11, 3, 4], 's09e03c09t|104': [13, 5, 6], 's09e03c09t|171': [22, 1, 2], 's09e03c09t|177': [22, 8, 9], 's09e03c09t|202': [27, 2, 3], 's09e03c09t|213': [29, 4, 5], 's09e03c09t|232': [33, 5, 6], 's09e03c09t|271': [41, 10, 11]}}, 's09e12c15t': {'correction_dict': {'s09e12c15t|17': [1, 1, 6]}, 'remove_set': {'s09e12c15t|6', 's09e12c15t|0', 's09e12c15t|2'}, 'add_dict': {}}, 's01e13c05f': {'correction_dict': {'s01e13c05f|3': [0, 2, 4], 's01e13c05f|11': [0, 14, 15], 's01e13c05f|25': [1, 11, 13], 's01e13c05f|26': [1, 11, 12], 's01e13c05f|29': [2, 2, 3], 's01e13c05f|37': [7, 4, 5], 's01e13c05f|42': [8, 0, 2], 's01e13c05f|46': [8, 4, 6], 's01e13c05f|58': [10, 3, 6], 's01e13c05f|73': [13, 0, 1], 's01e13c05f|99': [19, 6, 7], 's01e13c05f|100': [19, 7, 8], 's01e13c05f|122': [21, 3, 4], 's01e13c05f|129': [21, 9, 11], 's01e13c05f|148': [23, 14, 15], 's01e13c05f|156': [25, 1, 2]}, 'remove_set': {'s01e13c05f|107', 's01e13c05f|134', 's01e13c05f|113', 's01e13c05f|132'}, 'add_dict': {'s01e13c05f|1': [0, 2, 3], 's01e13c05f|4': [0, 7, 8], 's01e13c05f|23': [1, 6, 7], 's01e13c05f|40': [8, 2, 3], 's01e13c05f|96': [19, 4, 5], 's01e13c05f|118': [21, 0, 1], 's01e13c05f|124': [21, 5, 6], 's01e13c05f|162': [25, 4, 5], 's01e13c05f|181': [32, 6, 7]}}, 's09e03c12t': {'correction_dict': {'s09e03c12t|10': [2, 4, 6], 's09e03c12t|28': [4, 1, 3], 's09e03c12t|49': [7, 3, 4], 's09e03c12t|57': [8, 7, 11], 's09e03c12t|58': [8, 6, 8], 's09e03c12t|88': [9, 9, 11], 's09e03c12t|119': [13, 5, 6], 's09e03c12t|120': [13, 10, 11], 's09e03c12t|125': [13, 11, 12], 's09e03c12t|179': [20, 2, 10], 's09e03c12t|183': [22, 3, 6], 's09e03c12t|187': [24, 0, 2], 's09e03c12t|205': [26, 8, 13], 's09e03c12t|210': [27, 5, 7], 's09e03c12t|215': [29, 6, 7], 's09e03c12t|237': [33, 17, 18]}, 'remove_set': {'s09e03c12t|188', 's09e03c12t|220', 's09e03c12t|206', 's09e03c12t|162', 's09e03c12t|59', 's09e03c12t|130', 's09e03c12t|163', 's09e03c12t|39', 's09e03c12t|146'}, 'add_dict': {'s09e03c12t|8': [2, 5, 6], 's09e03c12t|31': [4, 3, 4], 's09e03c12t|60': [8, 19, 20], 's09e03c12t|122': [13, 10, 11], 's09e03c12t|126': [13, 10, 11], 's09e03c12t|138': [13, 27, 28], 's09e03c12t|209': [27, 9, 10], 's09e03c12t|229': [32, 6, 7], 's09e03c12t|234': [32, 7, 8], 's09e03c12t|243': [33, 16, 17]}}, 's09e12c00t': {'correction_dict': {'s09e12c00t|22': [2, 2, 3], 's09e12c00t|29': [2, 13, 14], 's09e12c00t|67': [10, 13, 14], 's09e12c00t|72': [10, 7, 8], 's09e12c00t|76': [12, 2, 4], 's09e12c00t|88': [12, 19, 23], 's09e12c00t|102': [13, 9, 11], 's09e12c00t|110': [15, 7, 9], 's09e12c00t|112': [15, 10, 12], 's09e12c00t|117': [16, 0, 1]}, 'remove_set': {'s09e12c00t|30', 's09e12c00t|32', 's09e12c00t|36', 's09e12c00t|92', 's09e12c00t|105', 's09e12c00t|60', 's09e12c00t|118', 's09e12c00t|103', 's09e12c00t|126', 's09e12c00t|34', 's09e12c00t|123', 's09e12c00t|139'}, 'add_dict': {'s09e12c00t|11': [1, 11, 12], 's09e12c00t|54': [7, 0, 1], 's09e12c00t|65': [10, 9, 10], 's09e12c00t|73': [11, 0, 1], 's09e12c00t|143': [20, 3, 4]}}, 's09e07c04t': {'correction_dict': {'s09e07c04t|9': [1, 9, 11], 's09e07c04t|31': [6, 6, 8], 's09e07c04t|32': [7, 9, 11], 's09e07c04t|50': [8, 23, 24], 's09e07c04t|52': [8, 28, 30], 's09e07c04t|60': [8, 49, 50], 's09e07c04t|73': [10, 3, 21], 's09e07c04t|74': [10, 3, 4], 's09e07c04t|75': [10, 3, 9], 's09e07c04t|77': [10, 9, 21], 's09e07c04t|78': [10, 9, 19], 's09e07c04t|108': [10, 74, 76], 's09e07c04t|134': [15, 4, 8], 's09e07c04t|155': [16, 3, 4], 's09e07c04t|171': [20, 0, 4], 's09e07c04t|172': [20, 0, 2]}, 'remove_set': {'s09e07c04t|196', 's09e07c04t|105', 's09e07c04t|190', 's09e07c04t|164', 's09e07c04t|192'}, 'add_dict': {'s09e07c04t|10': [1, 9, 10], 's09e07c04t|22': [5, 5, 6], 's09e07c04t|65': [9, 4, 5], 's09e07c04t|84': [10, 31, 32], 's09e07c04t|91': [10, 44, 45]}}, 's09e12c14t': {'correction_dict': {}, 'remove_set': set(), 'add_dict': {'s09e12c14t|0': [0, 1, 2]}}, 's09e10c07t': {'correction_dict': {'s09e10c07t|20': [2, 13, 15], 's09e10c07t|29': [3, 5, 9], 's09e10c07t|55': [6, 5, 6], 's09e10c07t|59': [6, 12, 14], 's09e10c07t|80': [11, 0, 3], 's09e10c07t|104': [13, 7, 10], 's09e10c07t|111': [13, 5, 6], 's09e10c07t|125': [14, 12, 14]}, 'remove_set': set(), 'add_dict': {'s09e10c07t|53': [6, 6, 7], 's09e10c07t|89': [12, 10, 11], 's09e10c07t|92': [12, 11, 12], 's09e10c07t|97': [12, 18, 19], 's09e10c07t|106': [13, 7, 9], 's09e10c07t|109': [13, 7, 8]}}, 's09e16c12t': {'correction_dict': {'s09e16c12t|5': [0, 7, 12], 's09e16c12t|8': [0, 9, 11], 's09e16c12t|19': [0, 19, 24], 's09e16c12t|21': [0, 21, 23]}, 'remove_set': set(), 'add_dict': {}}, 's09e04c11t': {'correction_dict': {'s09e04c11t|15': [1, 6, 17], 's09e04c11t|18': [1, 15, 23], 's09e04c11t|30': [3, 4, 5], 's09e04c11t|48': [4, 6, 7], 's09e04c11t|52': [5, 0, 1], 's09e04c11t|62': [7, 7, 10], 's09e04c11t|94': [9, 20, 22], 's09e04c11t|99': [10, 3, 4], 's09e04c11t|111': [11, 17, 18], 's09e04c11t|114': [12, 0, 1], 's09e04c11t|120': [14, 3, 4], 's09e04c11t|127': [14, 7, 11], 's09e04c11t|137': [17, 3, 4]}, 'remove_set': {'s09e04c11t|4', 's09e04c11t|12', 's09e04c11t|28', 's09e04c11t|7', 's09e04c11t|144', 's09e04c11t|143', 's09e04c11t|141'}, 'add_dict': {'s09e04c11t|2': [0, 4, 5], 's09e04c11t|19': [1, 18, 19], 's09e04c11t|25': [2, 11, 12], 's09e04c11t|66': [7, 13, 14], 's09e04c11t|70': [7, 18, 19], 's09e04c11t|123': [14, 5, 6], 's09e04c11t|130': [15, 2, 3]}}, 's09e16c02t': {'correction_dict': {'s09e16c02t|9': [0, 10, 12], 's09e16c02t|38': [5, 1, 3], 's09e16c02t|60': [9, 6, 8], 's09e16c02t|69': [9, 16, 17], 's09e16c02t|107': [13, 6, 9]}, 'remove_set': {'s09e16c02t|114', 's09e16c02t|104', 's09e16c02t|64', 's09e16c02t|66', 's09e16c02t|115', 's09e16c02t|44', 's09e16c02t|0'}, 'add_dict': {'s09e16c02t|8': [0, 5, 6], 's09e16c02t|39': [5, 2, 3], 's09e16c02t|41': [5, 4, 5], 's09e16c02t|53': [9, 3, 4], 's09e16c02t|84': [10, 1, 2]}}, 's01e14c08f': {'correction_dict': {'s01e14c08f|3': [0, 7, 10], 's01e14c08f|4': [0, 11, 18], 's01e14c08f|17': [1, 6, 7], 's01e14c08f|31': [2, 10, 12], 's01e14c08f|45': [5, 1, 5], 's01e14c08f|54': [7, 6, 8]}, 'remove_set': {'s01e14c08f|43'}, 'add_dict': {}}, 's09e12c06t': {'correction_dict': {'s09e12c06t|57': [9, 2, 3], 's09e12c06t|65': [10, 4, 5], 's09e12c06t|66': [9, 13, 14], 's09e12c06t|83': [13, 9, 11], 's09e12c06t|108': [17, 4, 5], 's09e12c06t|111': [17, 10, 11]}, 'remove_set': {'s09e12c06t|110', 's09e12c06t|112'}, 'add_dict': {'s09e12c06t|14': [0, 24, 25], 's09e12c06t|20': [1, 1, 2], 's09e12c06t|24': [2, 2, 3], 's09e12c06t|28': [3, 0, 1], 's09e12c06t|40': [5, 5, 6]}}, 's01e14c04f': {'correction_dict': {'s01e14c04f|5': [0, 5, 7], 's01e14c04f|10': [2, 0, 2], 's01e14c04f|70': [7, 0, 2], 's01e14c04f|79': [8, 1, 6], 's01e14c04f|84': [8, 3, 4], 's01e14c04f|87': [8, 18, 24]}, 'remove_set': {'s01e14c04f|58', 's01e14c04f|60', 's01e14c04f|80', 's01e14c04f|17', 's01e14c04f|55'}, 'add_dict': {'s01e14c04f|1': [0, 3, 4], 's01e14c04f|31': [3, 10, 11], 's01e14c04f|40': [3, 23, 24], 's01e14c04f|88': [8, 23, 24], 's01e14c04f|110': [10, 5, 6], 's01e14c04f|120': [12, 4, 5], 's01e14c04f|124': [14, 3, 4]}}, 's09e04c07t': {'correction_dict': {'s09e04c07t|13': [2, 10, 11], 's09e04c07t|17': [2, 7, 9], 's09e04c07t|38': [6, 9, 11]}, 'remove_set': {'s09e04c07t|70', 's09e04c07t|67'}, 'add_dict': {'s09e04c07t|11': [2, 7, 8], 's09e04c07t|27': [5, 4, 5], 's09e04c07t|36': [6, 9, 10], 's09e04c07t|57': [6, 17, 18], 's09e04c07t|83': [9, 8, 9]}}, 's01e14c07f': {'correction_dict': {'s01e14c07f|6': [0, 12, 14], 's01e14c07f|9': [1, 6, 8], 's01e14c07f|26': [8, 3, 5], 's01e14c07f|29': [8, 5, 7], 's01e14c07f|31': [9, 2, 4], 's01e14c07f|44': [14, 1, 3]}, 'remove_set': {'s01e14c07f|42', 's01e14c07f|68'}, 'add_dict': {'s01e14c07f|46': [14, 3, 4], 's01e14c07f|59': [15, 3, 4]}}, 's09e10c09t': {'correction_dict': {'s09e10c09t|8': [0, 15, 17], 's09e10c09t|24': [0, 48, 52], 's09e10c09t|38': [0, 70, 71], 's09e10c09t|44': [0, 87, 91], 's09e10c09t|51': [0, 93, 96], 's09e10c09t|61': [0, 101, 104], 's09e10c09t|95': [4, 12, 19]}, 'remove_set': {'s09e10c09t|52', 's09e10c09t|68'}, 'add_dict': {'s09e10c09t|13': [0, 18, 19], 's09e10c09t|23': [0, 46, 47], 's09e10c09t|26': [0, 48, 49], 's09e10c09t|30': [0, 51, 52], 's09e10c09t|33': [0, 58, 59], 's09e10c09t|39': [0, 77, 78], 's09e10c09t|55': [0, 92, 93], 's09e10c09t|98': [4, 16, 17]}}, 's09e04c00t': {'correction_dict': {'s09e04c00t|1': [0, 2, 3], 's09e04c00t|9': [1, 1, 2], 's09e04c00t|13': [2, 11, 12], 's09e04c00t|14': [2, 13, 14], 's09e04c00t|23': [3, 8, 9], 's09e04c00t|59': [7, 0, 2], 's09e04c00t|96': [10, 5, 7], 's09e04c00t|116': [12, 2, 7]}, 'remove_set': {'s09e04c00t|69', 's09e04c00t|55', 's09e04c00t|105', 's09e04c00t|53', 's09e04c00t|16', 's09e04c00t|26', 's09e04c00t|75'}, 'add_dict': {'s09e04c00t|70': [7, 11, 12], 's09e04c00t|73': [8, 4, 5], 's09e04c00t|92': [10, 0, 1], 's09e04c00t|101': [10, 11, 12], 's09e04c00t|124': [12, 25, 26]}}, 's01e14c01f': {'correction_dict': {'s01e14c01f|25': [5, 3, 4], 's01e14c01f|26': [5, 1, 7], 's01e14c01f|30': [5, 10, 11], 's01e14c01f|32': [6, 2, 3], 's01e14c01f|79': [13, 0, 2]}, 'remove_set': {'s01e14c01f|3'}, 'add_dict': {'s01e14c01f|4': [1, 1, 2], 's01e14c01f|13': [3, 6, 7], 's01e14c01f|20': [4, 10, 11], 's01e14c01f|23': [5, 2, 3], 's01e14c01f|67': [11, 1, 2], 's01e14c01f|71': [11, 10, 11], 's01e14c01f|73': [11, 16, 17], 's01e14c01f|77': [11, 21, 22]}}, 's09e07c09t': {'correction_dict': {'s09e07c09t|2': [0, 7, 8], 's09e07c09t|38': [5, 22, 23], 's09e07c09t|47': [6, 9, 11], 's09e07c09t|49': [6, 16, 18], 's09e07c09t|54': [6, 26, 27], 's09e07c09t|58': [7, 7, 8], 's09e07c09t|61': [7, 10, 11], 's09e07c09t|64': [7, 21, 22], 's09e07c09t|80': [8, 15, 18], 's09e07c09t|109': [11, 11, 13], 's09e07c09t|124': [13, 2, 6], 's09e07c09t|130': [14, 5, 7], 's09e07c09t|132': [15, 3, 23], 's09e07c09t|134': [15, 2, 3], 's09e07c09t|143': [15, 16, 19], 's09e07c09t|144': [15, 21, 22]}, 'remove_set': {'s09e07c09t|168', 's09e07c09t|171', 's09e07c09t|41', 's09e07c09t|131', 's09e07c09t|42', 's09e07c09t|169', 's09e07c09t|17', 's09e07c09t|25', 's09e07c09t|67', 's09e07c09t|30', 's09e07c09t|65'}, 'add_dict': {'s09e07c09t|32': [5, 10, 11], 's09e07c09t|48': [6, 26, 27], 's09e07c09t|72': [8, 0, 1], 's09e07c09t|77': [8, 5, 6], 's09e07c09t|120': [13, 14, 15], 's09e07c09t|125': [13, 4, 5], 's09e07c09t|139': [15, 12, 13]}}, 's01e13c08f': {'correction_dict': {'s01e13c08f|24': [6, 0, 2]}, 'remove_set': {'s01e13c08f|20', 's01e13c08f|9'}, 'add_dict': {'s01e13c08f|19': [4, 0, 1], 's01e13c08f|64': [11, 3, 4]}}, 's09e10c11t': {'correction_dict': {'s09e10c11t|3': [2, 1, 2], 's09e10c11t|22': [5, 0, 4], 's09e10c11t|25': [6, 6, 8], 's09e10c11t|58': [11, 0, 2], 's09e10c11t|60': [11, 4, 5], 's09e10c11t|70': [12, 6, 8], 's09e10c11t|74': [12, 8, 11]}, 'remove_set': {'s09e10c11t|0'}, 'add_dict': {'s09e10c11t|78': [12, 9, 10]}}, 's01e14c12f': {'correction_dict': {'s01e14c12f|7': [1, 4, 6], 's01e14c12f|10': [1, 9, 11], 's01e14c12f|21': [3, 7, 14], 's01e14c12f|22': [3, 11, 12], 's01e14c12f|30': [4, 2, 6], 's01e14c12f|33': [6, 0, 1], 's01e14c12f|34': [6, 1, 7]}, 'remove_set': {'s01e14c12f|23', 's01e14c12f|8'}, 'add_dict': {'s01e14c12f|15': [2, 0, 2]}}, 's09e04c05t': {'correction_dict': {'s09e04c05t|16': [2, 10, 12], 's09e04c05t|35': [6, 0, 1], 's09e04c05t|89': [9, 8, 9]}, 'remove_set': {'s09e04c05t|178', 's09e04c05t|107', 's09e04c05t|182', 's09e04c05t|91', 's09e04c05t|44', 's09e04c05t|122', 's09e04c05t|99', 's09e04c05t|120', 's09e04c05t|57'}, 'add_dict': {'s09e04c05t|11': [2, 2, 3], 's09e04c05t|30': [5, 2, 3], 's09e04c05t|42': [6, 10, 11], 's09e04c05t|55': [6, 23, 24], 's09e04c05t|101': [10, 0, 1], 's09e04c05t|108': [11, 2, 3], 's09e04c05t|174': [15, 15, 17]}}, 's09e10c10t': {'correction_dict': {'s09e10c10t|5': [1, 7, 13], 's09e10c10t|7': [1, 7, 13], 's09e10c10t|25': [5, 6, 8], 's09e10c10t|36': [7, 8, 9], 's09e10c10t|43': [8, 4, 7], 's09e10c10t|44': [8, 4, 5], 's09e10c10t|54': [10, 5, 6], 's09e10c10t|55': [11, 0, 1], 's09e10c10t|59': [11, 6, 15], 's09e10c10t|73': [12, 12, 17], 's09e10c10t|95': [14, 10, 12]}, 'remove_set': {'s09e10c10t|6'}, 'add_dict': {'s09e10c10t|26': [6, 0, 1], 's09e10c10t|28': [6, 3, 4], 's09e10c10t|63': [11, 14, 15], 's09e10c10t|77': [12, 17, 18]}}, 's09e04c04t': {'correction_dict': {'s09e04c04t|6': [0, 9, 20], 's09e04c04t|7': [0, 19, 20], 's09e04c04t|17': [2, 2, 6], 's09e04c04t|21': [2, 9, 12], 's09e04c04t|22': [2, 11, 12], 's09e04c04t|52': [4, 24, 25], 's09e04c04t|60': [5, 5, 6], 's09e04c04t|62': [5, 4, 5], 's09e04c04t|68': [5, 8, 12], 's09e04c04t|78': [9, 0, 4], 's09e04c04t|88': [9, 13, 14], 's09e04c04t|89': [9, 17, 19], 's09e04c04t|94': [11, 3, 7], 's09e04c04t|95': [11, 5, 7]}, 'remove_set': {'s09e04c04t|45', 's09e04c04t|47', 's09e04c04t|96', 's09e04c04t|93', 's09e04c04t|46', 's09e04c04t|100', 's09e04c04t|9'}, 'add_dict': {'s09e04c04t|15': [2, 0, 1], 's09e04c04t|19': [2, 5, 6], 's09e04c04t|23': [2, 11, 12], 's09e04c04t|55': [4, 30, 31], 's09e04c04t|61': [5, 1, 2], 's09e04c04t|63': [5, 3, 4], 's09e04c04t|65': [5, 6, 7], 's09e04c04t|84': [9, 0, 1], 's09e04c04t|86': [9, 11, 12]}}, 's01e13c07f': {'correction_dict': {'s01e13c07f|4': [2, 0, 1], 's01e13c07f|7': [2, 4, 6], 's01e13c07f|20': [4, 4, 9], 's01e13c07f|31': [11, 2, 3], 's01e13c07f|37': [13, 1, 3], 's01e13c07f|39': [13, 4, 8], 's01e13c07f|47': [15, 2, 9], 's01e13c07f|49': [15, 5, 7], 's01e13c07f|66': [19, 8, 10], 's01e13c07f|72': [20, 2, 4]}, 'remove_set': set(), 'add_dict': {'s01e13c07f|36': [13, 1, 2]}}, 's09e16c14t': {'correction_dict': {'s09e16c14t|0': [0, 0, 7]}, 'remove_set': set(), 'add_dict': {}}, 's09e04c03t': {'correction_dict': {'s09e04c03t|0': [0, 1, 5], 's09e04c03t|7': [0, 13, 15], 's09e04c03t|10': [0, 19, 22], 's09e04c03t|12': [0, 19, 21], 's09e04c03t|21': [0, 36, 39], 's09e04c03t|92': [7, 0, 1], 's09e04c03t|97': [8, 0, 1]}, 'remove_set': {'s09e04c03t|1', 's09e04c03t|64', 's09e04c03t|68', 's09e04c03t|66'}, 'add_dict': {'s09e04c03t|8': [0, 13, 14], 's09e04c03t|16': [0, 28, 29]}}, 's01e13c02f': {'correction_dict': {'s01e13c02f|3': [0, 10, 11], 's01e13c02f|5': [0, 10, 11], 's01e13c02f|16': [2, 0, 2], 's01e13c02f|21': [2, 2, 3], 's01e13c02f|23': [2, 3, 6], 's01e13c02f|31': [4, 2, 3], 's01e13c02f|33': [4, 3, 4], 's01e13c02f|65': [6, 49, 50], 's01e13c02f|66': [6, 50, 54], 's01e13c02f|72': [6, 57, 58], 's01e13c02f|90': [10, 6, 8], 's01e13c02f|98': [11, 4, 5], 's01e13c02f|104': [12, 1, 2]}, 'remove_set': {'s01e13c02f|82', 's01e13c02f|109', 's01e13c02f|60'}, 'add_dict': {'s01e13c02f|2': [0, 9, 10], 's01e13c02f|17': [2, 0, 1], 's01e13c02f|27': [4, 0, 1], 's01e13c02f|29': [4, 1, 2], 's01e13c02f|41': [6, 9, 10], 's01e13c02f|61': [6, 43, 44], 's01e13c02f|75': [8, 1, 2]}}, 's09e10c08t': {'correction_dict': {'s09e10c08t|0': [0, 1, 3], 's09e10c08t|48': [9, 4, 5], 's09e10c08t|52': [9, 3, 6]}, 'remove_set': {'s09e10c08t|7'}, 'add_dict': {'s09e10c08t|1': [0, 0, 1], 's09e10c08t|26': [3, 6, 8]}}, 's09e12c03t': {'correction_dict': {'s09e12c03t|3': [1, 1, 3], 's09e12c03t|7': [3, 3, 5], 's09e12c03t|9': [3, 6, 7], 's09e12c03t|14': [5, 4, 6], 's09e12c03t|19': [5, 13, 16], 's09e12c03t|24': [6, 8, 9], 's09e12c03t|31': [6, 16, 17], 's09e12c03t|116': [14, 17, 18], 's09e12c03t|121': [16, 4, 6], 's09e12c03t|130': [16, 21, 22], 's09e12c03t|133': [16, 25, 26]}, 'remove_set': {'s09e12c03t|82', 's09e12c03t|81', 's09e12c03t|90', 's09e12c03t|101'}, 'add_dict': {'s09e12c03t|16': [5, 7, 8], 's09e12c03t|49': [6, 38, 39], 's09e12c03t|58': [7, 4, 5], 's09e12c03t|69': [7, 18, 19], 's09e12c03t|75': [8, 5, 6], 's09e12c03t|106': [14, 0, 1], 's09e12c03t|110': [14, 10, 11], 's09e12c03t|114': [14, 12, 13], 's09e12c03t|126': [16, 16, 17]}}, 's09e11c04t': {'correction_dict': {'s09e11c04t|5': [0, 3, 6], 's09e11c04t|17': [2, 6, 7], 's09e11c04t|39': [5, 19, 21], 's09e11c04t|50': [5, 19, 23]}, 'remove_set': set(), 'add_dict': {'s09e11c04t|3': [0, 3, 4], 's09e11c04t|34': [5, 12, 13]}}, 's09e11c11t': {'correction_dict': {'s09e11c11t|33': [9, 6, 7]}, 'remove_set': {'s09e11c11t|22', 's09e11c11t|7', 's09e11c11t|36'}, 'add_dict': {'s09e11c11t|23': [8, 0, 1], 's09e11c11t|31': [9, 4, 5]}}, 's09e09c06t': {'correction_dict': {'s09e09c06t|3': [0, 4, 5], 's09e09c06t|39': [2, 13, 14], 's09e09c06t|76': [5, 5, 6], 's09e09c06t|77': [5, 2, 3]}, 'remove_set': {'s09e09c06t|67', 's09e09c06t|33', 's09e09c06t|92', 's09e09c06t|11'}, 'add_dict': {'s09e09c06t|9': [0, 10, 11], 's09e09c06t|20': [0, 14, 15], 's09e09c06t|37': [2, 7, 8], 's09e09c06t|49': [2, 40, 41]}}, 's09e07c08t': {'correction_dict': {'s09e07c08t|17': [1, 21, 23], 's09e07c08t|46': [15, 3, 5], 's09e07c08t|60': [17, 4, 5], 's09e07c08t|73': [17, 17, 19]}, 'remove_set': {'s09e07c08t|42', 's09e07c08t|29', 's09e07c08t|27', 's09e07c08t|24', 's09e07c08t|25', 's09e07c08t|35', 's09e07c08t|57', 's09e07c08t|7'}, 'add_dict': {'s09e07c08t|9': [1, 13, 14], 's09e07c08t|64': [17, 9, 10]}}, 's09e04c06t': {'correction_dict': {'s09e04c06t|7': [2, 4, 6], 's09e04c06t|30': [6, 4, 5], 's09e04c06t|44': [7, 22, 23], 's09e04c06t|65': [10, 2, 3], 's09e04c06t|86': [10, 33, 34]}, 'remove_set': {'s09e04c06t|15', 's09e04c06t|45', 's09e04c06t|18', 's09e04c06t|26'}, 'add_dict': {'s09e04c06t|16': [2, 12, 13], 's09e04c06t|35': [7, 1, 2], 's09e04c06t|42': [7, 20, 21], 's09e04c06t|75': [10, 17, 18], 's09e04c06t|88': [10, 29, 30]}}, 's09e16c15t': {'correction_dict': {'s09e16c15t|8': [0, 8, 20], 's09e16c15t|17': [0, 17, 18], 's09e16c15t|24': [0, 20, 22]}, 'remove_set': set(), 'add_dict': {'s09e16c15t|2': [0, 2, 3], 's09e16c15t|13': [0, 20, 23], 's09e16c15t|14': [0, 20, 22], 's09e16c15t|19': [0, 17, 18], 's09e16c15t|44': [1, 8, 9]}}, 's01e13c10f': {'correction_dict': {'s01e13c10f|22': [3, 13, 17], 's01e13c10f|51': [9, 1, 3], 's01e13c10f|61': [11, 4, 5], 's01e13c10f|73': [12, 17, 18], 's01e13c10f|79': [12, 27, 28], 's01e13c10f|80': [12, 22, 28]}, 'remove_set': {'s01e13c10f|36', 's01e13c10f|8', 's01e13c10f|38'}, 'add_dict': {'s01e13c10f|12': [3, 6, 7], 's01e13c10f|14': [3, 6, 7], 's01e13c10f|31': [5, 0, 1], 's01e13c10f|40': [5, 7, 8], 's01e13c10f|53': [9, 1, 2], 's01e13c10f|82': [12, 32, 33], 's01e13c10f|89': [12, 40, 42]}}, 's09e11c01t': {'correction_dict': {'s09e11c01t|15': [2, 16, 23], 's09e11c01t|18': [3, 7, 8], 's09e11c01t|34': [5, 12, 13], 's09e11c01t|41': [5, 19, 20], 's09e11c01t|46': [5, 24, 25], 's09e11c01t|82': [8, 24, 32]}, 'remove_set': {'s09e11c01t|68', 's09e11c01t|75', 's09e11c01t|60', 's09e11c01t|56', 's09e11c01t|77', 's09e11c01t|32', 's09e11c01t|50', 's09e11c01t|94', 's09e11c01t|78', 's09e11c01t|6', 's09e11c01t|26', 's09e11c01t|84'}, 'add_dict': {'s09e11c01t|12': [2, 5, 6], 's09e11c01t|22': [3, 11, 12], 's09e11c01t|48': [5, 26, 27], 's09e11c01t|54': [6, 5, 6], 's09e11c01t|57': [6, 5, 6]}}, 's01e14c09f': {'correction_dict': {'s01e14c09f|5': [1, 1, 2], 's01e14c09f|9': [1, 2, 6], 's01e14c09f|11': [1, 3, 6], 's01e14c09f|21': [3, 4, 5], 's01e14c09f|39': [7, 0, 3], 's01e14c09f|40': [8, 2, 6], 's01e14c09f|48': [12, 2, 6]}, 'remove_set': set(), 'add_dict': {'s01e14c09f|23': [3, 5, 6]}}, 's09e11c07t': {'correction_dict': {'s09e11c07t|9': [0, 7, 14], 's09e11c07t|10': [0, 10, 11], 's09e11c07t|18': [0, 17, 20], 's09e11c07t|26': [2, 0, 1], 's09e11c07t|36': [3, 3, 10], 's09e11c07t|62': [7, 10, 12]}, 'remove_set': {'s09e11c07t|20', 's09e11c07t|55', 's09e11c07t|32'}, 'add_dict': {'s09e11c07t|14': [0, 15, 16]}}, 's09e10c00t': {'correction_dict': {'s09e10c00t|3': [0, 7, 12], 's09e10c00t|16': [0, 22, 25]}, 'remove_set': {'s09e10c00t|18'}, 'add_dict': {'s09e10c00t|5': [0, 13, 14], 's09e10c00t|27': [0, 29, 30]}}, 's01e13c03f': {'correction_dict': {'s01e13c03f|5': [0, 12, 14], 's01e13c03f|6': [0, 15, 16], 's01e13c03f|10': [0, 21, 22], 's01e13c03f|19': [1, 12, 14], 's01e13c03f|25': [1, 25, 27], 's01e13c03f|31': [3, 4, 7], 's01e13c03f|46': [4, 12, 14], 's01e13c03f|48': [4, 12, 15], 's01e13c03f|54': [4, 20, 22], 's01e13c03f|104': [17, 11, 12], 's01e13c03f|119': [18, 7, 9], 's01e13c03f|126': [21, 5, 8], 's01e13c03f|135': [22, 8, 10], 's01e13c03f|139': [22, 18, 23], 's01e13c03f|140': [22, 20, 23], 's01e13c03f|141': [23, 0, 1], 's01e13c03f|177': [29, 7, 9], 's01e13c03f|180': [29, 24, 29], 's01e13c03f|181': [29, 26, 27], 's01e13c03f|184': [30, 1, 3], 's01e13c03f|202': [33, 6, 8], 's01e13c03f|209': [35, 8, 10], 's01e13c03f|211': [35, 11, 13]}, 'remove_set': {'s01e13c03f|64', 's01e13c03f|83', 's01e13c03f|72', 's01e13c03f|65', 's01e13c03f|98', 's01e13c03f|97', 's01e13c03f|156', 's01e13c03f|163'}, 'add_dict': {'s01e13c03f|11': [0, 25, 26], 's01e13c03f|23': [1, 20, 21], 's01e13c03f|107': [17, 2, 3], 's01e13c03f|117': [18, 7, 8], 's01e13c03f|198': [32, 0, 1], 's01e13c03f|212': [35, 18, 19], 's01e13c03f|216': [35, 21, 22]}}, 's09e16c07t': {'correction_dict': {'s09e16c07t|10': [2, 0, 2], 's09e16c07t|17': [3, 10, 16], 's09e16c07t|21': [4, 1, 10], 's09e16c07t|53': [9, 0, 1], 's09e16c07t|57': [9, 1, 2], 's09e16c07t|117': [18, 10, 11]}, 'remove_set': {'s09e16c07t|136', 's09e16c07t|127', 's09e16c07t|61', 's09e16c07t|137', 's09e16c07t|100', 's09e16c07t|116', 's09e16c07t|68', 's09e16c07t|16'}, 'add_dict': {'s09e16c07t|36': [5, 6, 7], 's09e16c07t|74': [10, 0, 1], 's09e16c07t|110': [18, 4, 5], 's09e16c07t|129': [20, 1, 2], 's09e16c07t|133': [20, 3, 4], 's09e16c07t|141': [21, 2, 3]}}, 's01e14c14f': {'correction_dict': {'s01e14c14f|26': [3, 7, 13], 's01e14c14f|40': [6, 4, 5], 's01e14c14f|56': [7, 5, 7], 's01e14c14f|59': [7, 11, 12], 's01e14c14f|73': [7, 27, 28], 's01e14c14f|99': [7, 53, 54], 's01e14c14f|100': [7, 53, 54], 's01e14c14f|131': [7, 86, 87], 's01e14c14f|134': [7, 109, 111], 's01e14c14f|155': [10, 4, 9], 's01e14c14f|159': [10, 7, 9]}, 'remove_set': {'s01e14c14f|110', 's01e14c14f|47', 's01e14c14f|143', 's01e14c14f|33', 's01e14c14f|161', 's01e14c14f|36', 's01e14c14f|122'}, 'add_dict': {'s01e14c14f|10': [1, 3, 4], 's01e14c14f|27': [3, 7, 8], 's01e14c14f|34': [5, 1, 2], 's01e14c14f|38': [6, 0, 1], 's01e14c14f|44': [6, 14, 15], 's01e14c14f|46': [6, 16, 17], 's01e14c14f|57': [7, 8, 9], 's01e14c14f|67': [7, 21, 22], 's01e14c14f|69': [7, 22, 23], 's01e14c14f|70': [7, 22, 23], 's01e14c14f|77': [7, 33, 34], 's01e14c14f|78': [7, 34, 35], 's01e14c14f|81': [7, 37, 38], 's01e14c14f|83': [7, 41, 42], 's01e14c14f|89': [7, 51, 52], 's01e14c14f|94': [7, 52, 53], 's01e14c14f|113': [7, 66, 67], 's01e14c14f|129': [7, 85, 86], 's01e14c14f|137': [7, 111, 112], 's01e14c14f|140': [7, 120, 121]}}, 's09e11c08t': {'correction_dict': {'s09e11c08t|3': [1, 0, 1], 's09e11c08t|20': [4, 11, 12], 's09e11c08t|29': [5, 3, 5], 's09e11c08t|45': [8, 15, 18], 's09e11c08t|47': [8, 25, 28], 's09e11c08t|116': [17, 7, 8]}, 'remove_set': {'s09e11c08t|9', 's09e11c08t|61', 's09e11c08t|118', 's09e11c08t|11', 's09e11c08t|48', 's09e11c08t|100', 's09e11c08t|77', 's09e11c08t|13', 's09e11c08t|14'}, 'add_dict': {'s09e11c08t|27': [5, 3, 4], 's09e11c08t|31': [6, 0, 1], 's09e11c08t|33': [6, 2, 3], 's09e11c08t|96': [15, 10, 11], 's09e11c08t|101': [15, 10, 11]}}, 's01e13c00f': {'correction_dict': {'s01e13c00f|3': [0, 5, 6], 's01e13c00f|5': [0, 7, 8], 's01e13c00f|17': [5, 0, 1], 's01e13c00f|27': [7, 11, 13]}, 'remove_set': {'s01e13c00f|0', 's01e13c00f|1'}, 'add_dict': {}}, 's09e09c07t': {'correction_dict': {'s09e09c07t|50': [8, 9, 11], 's09e09c07t|97': [13, 1, 3], 's09e09c07t|104': [13, 9, 11], 's09e09c07t|111': [14, 5, 6], 's09e09c07t|117': [15, 6, 8]}, 'remove_set': {'s09e09c07t|39', 's09e09c07t|38', 's09e09c07t|31', 's09e09c07t|5', 's09e09c07t|23', 's09e09c07t|56'}, 'add_dict': {'s09e09c07t|0': [0, 0, 1], 's09e09c07t|41': [8, 0, 1], 's09e09c07t|63': [8, 28, 29], 's09e09c07t|78': [10, 0, 1], 's09e09c07t|92': [11, 6, 7], 's09e09c07t|98': [13, 5, 6], 's09e09c07t|102': [13, 8, 9], 's09e09c07t|105': [13, 9, 10], 's09e09c07t|115': [15, 6, 7]}}, 's09e11c10t': {'correction_dict': {'s09e11c10t|37': [9, 4, 9]}, 'remove_set': set(), 'add_dict': {'s09e11c10t|26': [7, 1, 2]}}, 's09e10c12t': {'correction_dict': {'s09e10c12t|8': [1, 0, 1], 's09e10c12t|9': [1, 1, 2], 's09e10c12t|14': [2, 6, 13], 's09e10c12t|31': [4, 5, 11], 's09e10c12t|37': [4, 13, 18], 's09e10c12t|55': [5, 22, 32], 's09e10c12t|74': [7, 17, 19], 's09e10c12t|76': [7, 29, 30], 's09e10c12t|88': [7, 49, 50], 's09e10c12t|94': [7, 61, 63], 's09e10c12t|101': [8, 0, 11]}, 'remove_set': {'s09e10c12t|36', 's09e10c12t|24', 's09e10c12t|30'}, 'add_dict': {'s09e10c12t|42': [4, 18, 19], 's09e10c12t|56': [5, 31, 32], 's09e10c12t|62': [6, 3, 4]}}, 's09e12c02t': {'correction_dict': {'s09e12c02t|33': [5, 0, 1], 's09e12c02t|46': [10, 6, 8]}, 'remove_set': {'s09e12c02t|12', 's09e12c02t|10', 's09e12c02t|29', 's09e12c02t|89', 's09e12c02t|24'}, 'add_dict': {'s09e12c02t|13': [2, 1, 2], 's09e12c02t|15': [2, 2, 3], 's09e12c02t|41': [8, 0, 1], 's09e12c02t|59': [10, 18, 20], 's09e12c02t|85': [15, 9, 10], 's09e12c02t|97': [19, 3, 5]}}, 's09e16c09t': {'correction_dict': {'s09e16c09t|13': [1, 3, 5], 's09e16c09t|36': [3, 24, 26], 's09e16c09t|47': [5, 5, 6], 's09e16c09t|54': [7, 7, 9]}, 'remove_set': set(), 'add_dict': {'s09e16c09t|6': [0, 0, 1]}}, 's01e14c10f': {'correction_dict': {'s01e14c10f|14': [2, 1, 2], 's01e14c10f|25': [5, 2, 4], 's01e14c10f|37': [6, 5, 6]}, 'remove_set': set(), 'add_dict': {}}, 's09e03c11t': {'correction_dict': {'s09e03c11t|1': [0, 3, 5], 's09e03c11t|10': [2, 2, 3], 's09e03c11t|11': [2, 4, 6], 's09e03c11t|14': [2, 11, 13], 's09e03c11t|21': [2, 23, 25], 's09e03c11t|28': [4, 3, 7], 's09e03c11t|71': [12, 16, 18]}, 'remove_set': {'s09e03c11t|63'}, 'add_dict': {'s09e03c11t|17': [2, 19, 20], 's09e03c11t|48': [11, 2, 3], 's09e03c11t|69': [12, 13, 14], 's09e03c11t|72': [12, 17, 18]}}, 's09e09c09t': {'correction_dict': {'s09e09c09t|7': [1, 6, 8], 's09e09c09t|26': [2, 14, 15], 's09e09c09t|88': [9, 4, 5], 's09e09c09t|91': [9, 5, 8], 's09e09c09t|96': [9, 8, 9], 's09e09c09t|98': [9, 10, 15], 's09e09c09t|115': [13, 3, 7]}, 'remove_set': {'s09e09c09t|60', 's09e09c09t|54', 's09e09c09t|84', 's09e09c09t|107'}, 'add_dict': {'s09e09c09t|3': [0, 8, 9], 's09e09c09t|19': [2, 7, 8], 's09e09c09t|24': [2, 11, 12], 's09e09c09t|33': [3, 7, 8], 's09e09c09t|56': [6, 10, 11], 's09e09c09t|72': [8, 6, 7], 's09e09c09t|99': [9, 11, 12], 's09e09c09t|106': [10, 12, 13], 's09e09c09t|116': [13, 9, 10]}}, 's09e16c03t': {'correction_dict': {'s09e16c03t|22': [2, 8, 9], 's09e16c03t|27': [2, 18, 19], 's09e16c03t|39': [3, 9, 11], 's09e16c03t|60': [5, 13, 14], 's09e16c03t|77': [6, 4, 6], 's09e16c03t|82': [7, 5, 7], 's09e16c03t|93': [8, 7, 9], 's09e16c03t|122': [13, 3, 4], 's09e16c03t|137': [15, 5, 6], 's09e16c03t|152': [17, 6, 9]}, 'remove_set': {'s09e16c03t|80', 's09e16c03t|91', 's09e16c03t|146'}, 'add_dict': {'s09e16c03t|40': [3, 13, 14], 's09e16c03t|66': [5, 22, 23], 's09e16c03t|71': [6, 0, 2], 's09e16c03t|116': [12, 5, 6]}}, 's01e14c11f': {'correction_dict': {'s01e14c11f|20': [3, 31, 32], 's01e14c11f|30': [4, 3, 4], 's01e14c11f|46': [8, 3, 5], 's01e14c11f|47': [8, 8, 9], 's01e14c11f|49': [8, 8, 9], 's01e14c11f|59': [8, 31, 32], 's01e14c11f|61': [8, 31, 35], 's01e14c11f|64': [8, 35, 36], 's01e14c11f|67': [8, 37, 39], 's01e14c11f|71': [8, 43, 55], 's01e14c11f|75': [8, 52, 54]}, 'remove_set': {'s01e14c11f|18', 's01e14c11f|22', 's01e14c11f|11', 's01e14c11f|19', 's01e14c11f|17'}, 'add_dict': {'s01e14c11f|53': [8, 17, 18]}}, 's09e12c11t': {'correction_dict': {'s09e12c11t|40': [2, 12, 14], 's09e12c11t|51': [2, 28, 32], 's09e12c11t|112': [10, 15, 19]}, 'remove_set': {'s09e12c11t|23', 's09e12c11t|87'}, 'add_dict': {'s09e12c11t|38': [2, 15, 16], 's09e12c11t|49': [2, 24, 25], 's09e12c11t|57': [4, 8, 9], 's09e12c11t|76': [6, 4, 5], 's09e12c11t|105': [10, 4, 5]}}, 's09e11c15t': {'correction_dict': {'s09e11c15t|19': [7, 9, 11], 's09e11c15t|22': [7, 15, 16]}, 'remove_set': {'s09e11c15t|5'}, 'add_dict': {'s09e11c15t|20': [7, 9, 10]}}, 's01e14c15f': {'correction_dict': {'s01e14c15f|0': [0, 38, 39], 's01e14c15f|21': [4, 3, 5]}, 'remove_set': set(), 'add_dict': {'s01e14c15f|3': [0, 42, 43]}}, 's09e16c05t': {'correction_dict': {'s09e16c05t|5': [0, 3, 5], 's09e16c05t|14': [0, 9, 13], 's09e16c05t|15': [0, 12, 16], 's09e16c05t|22': [1, 7, 11], 's09e16c05t|26': [3, 2, 3], 's09e16c05t|33': [3, 14, 18], 's09e16c05t|63': [7, 5, 9], 's09e16c05t|80': [9, 19, 29]}, 'remove_set': {'s09e16c05t|50', 's09e16c05t|18', 's09e16c05t|21', 's09e16c05t|49', 's09e16c05t|48'}, 'add_dict': {'s09e16c05t|12': [0, 9, 10], 's09e16c05t|16': [0, 12, 13], 's09e16c05t|34': [3, 14, 15], 's09e16c05t|60': [7, 5, 6], 's09e16c05t|70': [8, 4, 5], 's09e16c05t|78': [9, 19, 20]}}, 's09e10c02t': {'correction_dict': {'s09e10c02t|25': [0, 36, 38], 's09e10c02t|29': [1, 3, 5], 's09e10c02t|33': [2, 2, 4], 's09e10c02t|48': [3, 10, 11], 's09e10c02t|71': [5, 11, 26], 's09e10c02t|73': [5, 11, 26], 's09e10c02t|76': [5, 13, 26]}, 'remove_set': {'s09e10c02t|0'}, 'add_dict': {'s09e10c02t|10': [0, 9, 10], 's09e10c02t|12': [0, 13, 14], 's09e10c02t|16': [0, 19, 20], 's09e10c02t|30': [2, 2, 3], 's09e10c02t|50': [3, 14, 15], 's09e10c02t|77': [5, 16, 17]}}, 's09e16c08t': {'correction_dict': {'s09e16c08t|3': [0, 4, 8], 's09e16c08t|60': [12, 3, 5], 's09e16c08t|120': [18, 2, 3]}, 'remove_set': {'s09e16c08t|71'}, 'add_dict': {'s09e16c08t|83': [13, 9, 10]}}, 's09e09c03t': {'correction_dict': {'s09e09c03t|12': [1, 2, 3], 's09e09c03t|21': [3, 6, 11], 's09e09c03t|24': [3, 22, 24], 's09e09c03t|50': [11, 3, 5], 's09e09c03t|61': [14, 0, 1], 's09e09c03t|65': [16, 3, 5], 's09e09c03t|72': [17, 3, 4], 's09e09c03t|74': [17, 3, 8], 's09e09c03t|78': [18, 5, 6], 's09e09c03t|79': [18, 1, 6], 's09e09c03t|82': [19, 0, 2], 's09e09c03t|84': [19, 0, 3], 's09e09c03t|85': [19, 4, 8], 's09e09c03t|91': [19, 13, 15], 's09e09c03t|111': [20, 1, 8]}, 'remove_set': {'s09e09c03t|20', 's09e09c03t|7', 's09e09c03t|44', 's09e09c03t|3', 's09e09c03t|14', 's09e09c03t|54'}, 'add_dict': {'s09e09c03t|108': [20, 1, 2]}}, 's09e07c00t': {'correction_dict': {'s09e07c00t|4': [0, 3, 22], 's09e07c00t|19': [3, 2, 4], 's09e07c00t|27': [3, 17, 18], 's09e07c00t|35': [4, 4, 8], 's09e07c00t|53': [6, 18, 19], 's09e07c00t|64': [6, 26, 32], 's09e07c00t|65': [6, 26, 27], 's09e07c00t|84': [9, 0, 2], 's09e07c00t|94': [11, 7, 8], 's09e07c00t|98': [12, 0, 1]}, 'remove_set': {'s09e07c00t|68', 's09e07c00t|51', 's09e07c00t|6', 's09e07c00t|91'}, 'add_dict': {'s09e07c00t|3': [0, 3, 4], 's09e07c00t|18': [3, 2, 3], 's09e07c00t|25': [3, 17, 18], 's09e07c00t|59': [6, 15, 16], 's09e07c00t|61': [6, 21, 22], 's09e07c00t|105': [12, 10, 11], 's09e07c00t|108': [12, 13, 14]}}, 's09e04c12t': {'correction_dict': {'s09e04c12t|4': [0, 3, 8], 's09e04c12t|15': [1, 7, 8], 's09e04c12t|32': [3, 8, 9], 's09e04c12t|38': [3, 11, 13], 's09e04c12t|117': [9, 5, 6]}, 'remove_set': {'s09e04c12t|29', 's09e04c12t|102', 's09e04c12t|142'}, 'add_dict': {'s09e04c12t|34': [3, 11, 13], 's09e04c12t|52': [3, 25, 26], 's09e04c12t|100': [8, 7, 8]}}, 's09e10c06t': {'correction_dict': {'s09e10c06t|26': [3, 6, 8], 's09e10c06t|34': [4, 5, 6], 's09e10c06t|38': [5, 5, 6], 's09e10c06t|40': [5, 6, 7], 's09e10c06t|52': [8, 5, 7], 's09e10c06t|58': [8, 15, 17], 's09e10c06t|63': [9, 4, 5], 's09e10c06t|75': [9, 19, 20], 's09e10c06t|83': [10, 12, 17], 's09e10c06t|87': [12, 2, 8]}, 'remove_set': {'s09e10c06t|16', 's09e10c06t|13', 's09e10c06t|62'}, 'add_dict': {'s09e10c06t|41': [6, 0, 1], 's09e10c06t|50': [8, 5, 6], 's09e10c06t|53': [8, 7, 8], 's09e10c06t|69': [9, 12, 13], 's09e10c06t|86': [12, 0, 1]}}, 's01e13c11f': {'correction_dict': {'s01e13c11f|7': [1, 10, 11], 's01e13c11f|15': [1, 18, 19], 's01e13c11f|48': [5, 13, 15], 's01e13c11f|53': [5, 22, 27], 's01e13c11f|72': [7, 8, 13], 's01e13c11f|89': [16, 7, 8], 's01e13c11f|102': [16, 23, 24]}, 'remove_set': set(), 'add_dict': {'s01e13c11f|8': [1, 4, 5], 's01e13c11f|41': [5, 1, 2], 's01e13c11f|49': [5, 6, 7], 's01e13c11f|69': [7, 3, 4], 's01e13c11f|75': [7, 13, 14], 's01e13c11f|95': [16, 12, 13], 's01e13c11f|100': [16, 17, 18], 's01e13c11f|104': [16, 23, 24]}}, 's09e09c13t': {'correction_dict': {'s09e09c13t|12': [3, 5, 6], 's09e09c13t|45': [7, 0, 2], 's09e09c13t|46': [7, 0, 1], 's09e09c13t|48': [7, 4, 5]}, 'remove_set': set(), 'add_dict': {'s09e09c13t|38': [4, 17, 18]}}, 's01e14c00f': {'correction_dict': {'s01e14c00f|51': [9, 5, 11], 's01e14c00f|52': [9, 9, 10], 's01e14c00f|73': [13, 2, 3], 's01e14c00f|87': [15, 1, 2], 's01e14c00f|89': [16, 2, 4]}, 'remove_set': {'s01e14c00f|61', 's01e14c00f|68', 's01e14c00f|62'}, 'add_dict': {'s01e14c00f|70': [12, 0, 1], 's01e14c00f|71': [13, 1, 2], 's01e14c00f|77': [14, 2, 3], 's01e14c00f|79': [14, 4, 5]}}, 's09e04c02t': {'correction_dict': {'s09e04c02t|7': [0, 13, 15], 's09e04c02t|13': [2, 2, 5], 's09e04c02t|47': [9, 6, 10], 's09e04c02t|63': [14, 0, 1], 's09e04c02t|64': [12, 3, 7], 's09e04c02t|73': [15, 1, 2], 's09e04c02t|79': [15, 4, 13], 's09e04c02t|95': [17, 2, 9], 's09e04c02t|101': [17, 7, 9]}, 'remove_set': {'s09e04c02t|102', 's09e04c02t|77'}, 'add_dict': {'s09e04c02t|3': [0, 7, 8], 's09e04c02t|66': [14, 5, 6], 's09e04c02t|75': [15, 4, 6], 's09e04c02t|87': [16, 2, 3], 's09e04c02t|97': [17, 1, 2]}}, 's09e09c10t': {'correction_dict': {'s09e09c10t|23': [6, 8, 10], 's09e09c10t|47': [7, 11, 14], 's09e09c10t|48': [7, 12, 15], 's09e09c10t|78': [10, 4, 6], 's09e09c10t|80': [10, 8, 9], 's09e09c10t|103': [14, 4, 5], 's09e09c10t|109': [14, 2, 4]}, 'remove_set': {'s09e09c10t|24', 's09e09c10t|13', 's09e09c10t|61', 's09e09c10t|99'}, 'add_dict': {'s09e09c10t|4': [1, 0, 1], 's09e09c10t|5': [1, 4, 5], 's09e09c10t|10': [1, 6, 7], 's09e09c10t|45': [7, 10, 11], 's09e09c10t|50': [7, 15, 16], 's09e09c10t|56': [7, 23, 24], 's09e09c10t|107': [14, 1, 2]}}, 's09e10c13t': {'correction_dict': {'s09e10c13t|18': [2, 5, 6], 's09e10c13t|20': [2, 6, 11], 's09e10c13t|53': [4, 15, 16]}, 'remove_set': set(), 'add_dict': {'s09e10c13t|6': [0, 7, 8], 's09e10c13t|73': [8, 4, 5], 's09e10c13t|75': [9, 0, 1]}}, 's09e11c00t': {'correction_dict': {'s09e11c00t|14': [3, 7, 8], 's09e11c00t|24': [5, 1, 2], 's09e11c00t|37': [9, 1, 2], 's09e11c00t|46': [11, 15, 16], 's09e11c00t|47': [11, 9, 16], 's09e11c00t|68': [11, 40, 42]}, 'remove_set': {'s09e11c00t|50', 's09e11c00t|33', 's09e11c00t|73', 's09e11c00t|40', 's09e11c00t|39'}, 'add_dict': {'s09e11c00t|7': [2, 0, 1], 's09e11c00t|20': [4, 4, 5], 's09e11c00t|53': [11, 28, 29], 's09e11c00t|69': [11, 40, 41]}}}\n"
     ]
    }
   ],
   "source": [
    "print(all_results)"
   ],
   "metadata": {
    "collapsed": false,
    "pycharm": {
     "name": "#%%\n"
    }
   }
  },
  {
   "cell_type": "code",
   "execution_count": null,
   "outputs": [],
   "source": [],
   "metadata": {
    "collapsed": false,
    "pycharm": {
     "name": "#%%\n"
    }
   }
  },
  {
   "cell_type": "code",
   "execution_count": 12,
   "outputs": [
    {
     "name": "stdout",
     "output_type": "stream",
     "text": [
      "2.049999999999997\n",
      "2.530000000000001\n",
      "3.3799999999999955\n"
     ]
    }
   ],
   "source": [
    "print(39.23-37.18)\n",
    "print(39.54-37.01)\n",
    "print(50.58-47.20)"
   ],
   "metadata": {
    "collapsed": false,
    "pycharm": {
     "name": "#%%\n"
    }
   }
  },
  {
   "cell_type": "code",
   "execution_count": null,
   "outputs": [],
   "source": [],
   "metadata": {
    "collapsed": false,
    "pycharm": {
     "name": "#%%\n"
    }
   }
  },
  {
   "cell_type": "code",
   "execution_count": null,
   "outputs": [],
   "source": [],
   "metadata": {
    "collapsed": false,
    "pycharm": {
     "name": "#%%\n"
    }
   }
  },
  {
   "cell_type": "code",
   "execution_count": null,
   "outputs": [],
   "source": [],
   "metadata": {
    "collapsed": false,
    "pycharm": {
     "name": "#%%\n"
    }
   }
  },
  {
   "cell_type": "code",
   "execution_count": null,
   "outputs": [],
   "source": [],
   "metadata": {
    "collapsed": false,
    "pycharm": {
     "name": "#%%\n"
    }
   }
  }
 ],
 "metadata": {
  "kernelspec": {
   "display_name": "Python 3",
   "language": "python",
   "name": "python3"
  },
  "language_info": {
   "codemirror_mode": {
    "name": "ipython",
    "version": 2
   },
   "file_extension": ".py",
   "mimetype": "text/x-python",
   "name": "python",
   "nbconvert_exporter": "python",
   "pygments_lexer": "ipython2",
   "version": "2.7.6"
  }
 },
 "nbformat": 4,
 "nbformat_minor": 0
}